{
 "cells": [
  {
   "cell_type": "markdown",
   "metadata": {},
   "source": [
    "# Dividing the data into epochs with mne"
   ]
  },
  {
   "cell_type": "code",
   "execution_count": 3,
   "metadata": {},
   "outputs": [],
   "source": [
    "import os\n",
    "import mne\n",
    "import torch\n",
    "import pandas as pd\n",
    "from torch.utils.data import Dataset, DataLoader\n",
    "from mne_bids import read_raw_bids, BIDSPath\n",
    "\n",
    "class BIDSEEGDataset(Dataset):\n",
    "    def __init__(self, bids_root, patients_tsv):\n",
    "        self.bids_root = bids_root\n",
    "\n",
    "        # use only these channels for classification\n",
    "        self.selected_channels = ['F3','F4','C3','C4','O1','O2','A1','A2']\n",
    "\n",
    "        # read the patients.tsv file\n",
    "        self.patients_df = pd.read_csv(patients_tsv, delimiter='\\t')\n",
    "\n",
    "        # create a dictionary with patient_id as key and pathology as value\n",
    "        self.pathology_dict = dict(zip(self.patients_df['participant_id'], self.patients_df['pathology']))\n",
    "\n",
    "        # get all the subjects in the bids_root\n",
    "        self.subjects = [d for d in os.listdir(bids_root) if d.startswith('sub-')] # ['sub-03'] #\n",
    "        self.all_epochs = []\n",
    "        self.all_labels = []\n",
    "\n",
    "        for subject in self.subjects:\n",
    "            subject_id = subject.replace('sub-', '')\n",
    "            subject_folder = os.path.join(self.bids_root, subject)\n",
    "            sessions = [d for d in os.listdir(subject_folder) if d.startswith('ses-')]\n",
    "\n",
    "            for session in sessions:\n",
    "                session_id = session.replace('ses-', '')\n",
    "                bids_path = BIDSPath(subject=subject_id, session=session_id, task='verbalWM',\n",
    "                                              run='01', datatype='eeg', root=self.bids_root)\n",
    "                try:\n",
    "                    raw = read_raw_bids(bids_path, verbose=False)\n",
    "                except Error:\n",
    "                    continue\n",
    "\n",
    "                raw.load_data(verbose=False)\n",
    "                \n",
    "                raw.filter(l_freq=1, h_freq=None, verbose=False, fir_design='firwin', skip_by_annotation='edge')\n",
    "                raw.pick(picks=self.selected_channels, verbose=False)\n",
    "                raw.resample(sfreq=250)  # Resample to 250 Hz\n",
    "\n",
    "\n",
    "                events, _ = mne.events_from_annotations(raw, verbose=False)\n",
    "                epochs = mne.Epochs(raw, events, verbose=False, tmax=8)\n",
    "                pathology_label = self.pathology_dict.get(f'sub-{subject_id}', 'Unknown')\n",
    "                for epoch_data in epochs.get_data():\n",
    "                    self.all_epochs.append(epoch_data)\n",
    "                    self.all_labels.append(pathology_label)\n",
    "\n",
    "        # save the labels in a dictionary to convert them to numbers\n",
    "        # and to easily use them in the dataloader\n",
    "        self.labels = {}\n",
    "        for i, pathology in enumerate(set(self.all_labels)):\n",
    "            self.labels[pathology] = i\n",
    "\n",
    "\n",
    "\n",
    "    def __len__(self):\n",
    "        return len(self.all_epochs)\n",
    "\n",
    "    def __getitem__(self, idx):\n",
    "        epoch_data = self.all_epochs[idx]\n",
    "        pathology_label = self.all_labels[idx]\n",
    "        # create one hot encoding for the pathology\n",
    "\n",
    "        return torch.tensor(epoch_data, dtype=torch.float32), torch.tensor(self.labels[pathology_label])"
   ]
  },
  {
   "cell_type": "code",
   "execution_count": 4,
   "metadata": {},
   "outputs": [
    {
     "name": "stderr",
     "output_type": "stream",
     "text": [
      "/var/folders/zb/vnlk96b52x18jnx35vjsd4f40000gp/T/ipykernel_5590/2894069457.py:36: RuntimeWarning: Limited 1 annotation(s) that were expanding outside the data range.\n",
      "  raw = read_raw_bids(bids_path, verbose=False)\n"
     ]
    },
    {
     "name": "stdout",
     "output_type": "stream",
     "text": [
      "Using data from preloaded Raw for 50 events and 2051 original time points ...\n",
      "2 bad epochs dropped\n"
     ]
    },
    {
     "name": "stderr",
     "output_type": "stream",
     "text": [
      "/var/folders/zb/vnlk96b52x18jnx35vjsd4f40000gp/T/ipykernel_5590/2894069457.py:36: RuntimeWarning: Limited 1 annotation(s) that were expanding outside the data range.\n",
      "  raw = read_raw_bids(bids_path, verbose=False)\n"
     ]
    },
    {
     "name": "stdout",
     "output_type": "stream",
     "text": [
      "Using data from preloaded Raw for 50 events and 2051 original time points ...\n",
      "2 bad epochs dropped\n"
     ]
    },
    {
     "name": "stderr",
     "output_type": "stream",
     "text": [
      "/var/folders/zb/vnlk96b52x18jnx35vjsd4f40000gp/T/ipykernel_5590/2894069457.py:36: RuntimeWarning: Limited 1 annotation(s) that were expanding outside the data range.\n",
      "  raw = read_raw_bids(bids_path, verbose=False)\n"
     ]
    },
    {
     "name": "stdout",
     "output_type": "stream",
     "text": [
      "Using data from preloaded Raw for 50 events and 2051 original time points ...\n",
      "2 bad epochs dropped\n"
     ]
    },
    {
     "name": "stderr",
     "output_type": "stream",
     "text": [
      "/var/folders/zb/vnlk96b52x18jnx35vjsd4f40000gp/T/ipykernel_5590/2894069457.py:36: RuntimeWarning: Limited 1 annotation(s) that were expanding outside the data range.\n",
      "  raw = read_raw_bids(bids_path, verbose=False)\n"
     ]
    },
    {
     "name": "stdout",
     "output_type": "stream",
     "text": [
      "Using data from preloaded Raw for 50 events and 2051 original time points ...\n",
      "2 bad epochs dropped\n"
     ]
    },
    {
     "name": "stderr",
     "output_type": "stream",
     "text": [
      "/var/folders/zb/vnlk96b52x18jnx35vjsd4f40000gp/T/ipykernel_5590/2894069457.py:36: RuntimeWarning: Limited 1 annotation(s) that were expanding outside the data range.\n",
      "  raw = read_raw_bids(bids_path, verbose=False)\n"
     ]
    },
    {
     "name": "stdout",
     "output_type": "stream",
     "text": [
      "Using data from preloaded Raw for 50 events and 2051 original time points ...\n",
      "2 bad epochs dropped\n"
     ]
    },
    {
     "name": "stderr",
     "output_type": "stream",
     "text": [
      "/var/folders/zb/vnlk96b52x18jnx35vjsd4f40000gp/T/ipykernel_5590/2894069457.py:36: RuntimeWarning: Limited 1 annotation(s) that were expanding outside the data range.\n",
      "  raw = read_raw_bids(bids_path, verbose=False)\n"
     ]
    },
    {
     "name": "stdout",
     "output_type": "stream",
     "text": [
      "Using data from preloaded Raw for 50 events and 2051 original time points ...\n",
      "2 bad epochs dropped\n"
     ]
    },
    {
     "name": "stderr",
     "output_type": "stream",
     "text": [
      "/var/folders/zb/vnlk96b52x18jnx35vjsd4f40000gp/T/ipykernel_5590/2894069457.py:36: RuntimeWarning: Limited 1 annotation(s) that were expanding outside the data range.\n",
      "  raw = read_raw_bids(bids_path, verbose=False)\n"
     ]
    },
    {
     "name": "stdout",
     "output_type": "stream",
     "text": [
      "Using data from preloaded Raw for 50 events and 2051 original time points ...\n",
      "2 bad epochs dropped\n"
     ]
    },
    {
     "name": "stderr",
     "output_type": "stream",
     "text": [
      "/var/folders/zb/vnlk96b52x18jnx35vjsd4f40000gp/T/ipykernel_5590/2894069457.py:36: RuntimeWarning: Limited 1 annotation(s) that were expanding outside the data range.\n",
      "  raw = read_raw_bids(bids_path, verbose=False)\n"
     ]
    },
    {
     "name": "stdout",
     "output_type": "stream",
     "text": [
      "Using data from preloaded Raw for 48 events and 2051 original time points ...\n",
      "2 bad epochs dropped\n"
     ]
    },
    {
     "name": "stderr",
     "output_type": "stream",
     "text": [
      "/var/folders/zb/vnlk96b52x18jnx35vjsd4f40000gp/T/ipykernel_5590/2894069457.py:36: RuntimeWarning: Limited 1 annotation(s) that were expanding outside the data range.\n",
      "  raw = read_raw_bids(bids_path, verbose=False)\n"
     ]
    },
    {
     "name": "stdout",
     "output_type": "stream",
     "text": [
      "Using data from preloaded Raw for 50 events and 2051 original time points ...\n",
      "2 bad epochs dropped\n"
     ]
    },
    {
     "name": "stderr",
     "output_type": "stream",
     "text": [
      "/var/folders/zb/vnlk96b52x18jnx35vjsd4f40000gp/T/ipykernel_5590/2894069457.py:36: RuntimeWarning: Limited 1 annotation(s) that were expanding outside the data range.\n",
      "  raw = read_raw_bids(bids_path, verbose=False)\n"
     ]
    },
    {
     "name": "stdout",
     "output_type": "stream",
     "text": [
      "Using data from preloaded Raw for 50 events and 2051 original time points ...\n",
      "2 bad epochs dropped\n"
     ]
    },
    {
     "name": "stderr",
     "output_type": "stream",
     "text": [
      "/var/folders/zb/vnlk96b52x18jnx35vjsd4f40000gp/T/ipykernel_5590/2894069457.py:36: RuntimeWarning: Invalid date encountered (2023-09-13 14:23:60).\n",
      "  raw = read_raw_bids(bids_path, verbose=False)\n",
      "/var/folders/zb/vnlk96b52x18jnx35vjsd4f40000gp/T/ipykernel_5590/2894069457.py:36: RuntimeWarning: Limited 1 annotation(s) that were expanding outside the data range.\n",
      "  raw = read_raw_bids(bids_path, verbose=False)\n"
     ]
    },
    {
     "name": "stdout",
     "output_type": "stream",
     "text": [
      "Using data from preloaded Raw for 50 events and 2051 original time points ...\n",
      "2 bad epochs dropped\n"
     ]
    },
    {
     "name": "stderr",
     "output_type": "stream",
     "text": [
      "/var/folders/zb/vnlk96b52x18jnx35vjsd4f40000gp/T/ipykernel_5590/2894069457.py:36: RuntimeWarning: Limited 1 annotation(s) that were expanding outside the data range.\n",
      "  raw = read_raw_bids(bids_path, verbose=False)\n"
     ]
    },
    {
     "name": "stdout",
     "output_type": "stream",
     "text": [
      "Using data from preloaded Raw for 50 events and 2051 original time points ...\n",
      "2 bad epochs dropped\n"
     ]
    },
    {
     "name": "stderr",
     "output_type": "stream",
     "text": [
      "/var/folders/zb/vnlk96b52x18jnx35vjsd4f40000gp/T/ipykernel_5590/2894069457.py:36: RuntimeWarning: Limited 1 annotation(s) that were expanding outside the data range.\n",
      "  raw = read_raw_bids(bids_path, verbose=False)\n"
     ]
    },
    {
     "name": "stdout",
     "output_type": "stream",
     "text": [
      "Using data from preloaded Raw for 50 events and 2051 original time points ...\n",
      "2 bad epochs dropped\n"
     ]
    },
    {
     "name": "stderr",
     "output_type": "stream",
     "text": [
      "/var/folders/zb/vnlk96b52x18jnx35vjsd4f40000gp/T/ipykernel_5590/2894069457.py:36: RuntimeWarning: Limited 1 annotation(s) that were expanding outside the data range.\n",
      "  raw = read_raw_bids(bids_path, verbose=False)\n"
     ]
    },
    {
     "name": "stdout",
     "output_type": "stream",
     "text": [
      "Using data from preloaded Raw for 50 events and 2051 original time points ...\n",
      "2 bad epochs dropped\n"
     ]
    },
    {
     "name": "stderr",
     "output_type": "stream",
     "text": [
      "/var/folders/zb/vnlk96b52x18jnx35vjsd4f40000gp/T/ipykernel_5590/2894069457.py:36: RuntimeWarning: Limited 1 annotation(s) that were expanding outside the data range.\n",
      "  raw = read_raw_bids(bids_path, verbose=False)\n"
     ]
    },
    {
     "name": "stdout",
     "output_type": "stream",
     "text": [
      "Using data from preloaded Raw for 50 events and 2051 original time points ...\n",
      "2 bad epochs dropped\n"
     ]
    },
    {
     "name": "stderr",
     "output_type": "stream",
     "text": [
      "/var/folders/zb/vnlk96b52x18jnx35vjsd4f40000gp/T/ipykernel_5590/2894069457.py:36: RuntimeWarning: Limited 1 annotation(s) that were expanding outside the data range.\n",
      "  raw = read_raw_bids(bids_path, verbose=False)\n"
     ]
    },
    {
     "name": "stdout",
     "output_type": "stream",
     "text": [
      "Using data from preloaded Raw for 50 events and 2051 original time points ...\n",
      "2 bad epochs dropped\n"
     ]
    },
    {
     "name": "stderr",
     "output_type": "stream",
     "text": [
      "/var/folders/zb/vnlk96b52x18jnx35vjsd4f40000gp/T/ipykernel_5590/2894069457.py:36: RuntimeWarning: Limited 1 annotation(s) that were expanding outside the data range.\n",
      "  raw = read_raw_bids(bids_path, verbose=False)\n"
     ]
    },
    {
     "name": "stdout",
     "output_type": "stream",
     "text": [
      "Using data from preloaded Raw for 50 events and 2051 original time points ...\n",
      "2 bad epochs dropped\n"
     ]
    },
    {
     "name": "stderr",
     "output_type": "stream",
     "text": [
      "/var/folders/zb/vnlk96b52x18jnx35vjsd4f40000gp/T/ipykernel_5590/2894069457.py:36: RuntimeWarning: Limited 1 annotation(s) that were expanding outside the data range.\n",
      "  raw = read_raw_bids(bids_path, verbose=False)\n"
     ]
    },
    {
     "name": "stdout",
     "output_type": "stream",
     "text": [
      "Using data from preloaded Raw for 50 events and 2051 original time points ...\n",
      "2 bad epochs dropped\n"
     ]
    },
    {
     "name": "stderr",
     "output_type": "stream",
     "text": [
      "/var/folders/zb/vnlk96b52x18jnx35vjsd4f40000gp/T/ipykernel_5590/2894069457.py:36: RuntimeWarning: Limited 1 annotation(s) that were expanding outside the data range.\n",
      "  raw = read_raw_bids(bids_path, verbose=False)\n"
     ]
    },
    {
     "name": "stdout",
     "output_type": "stream",
     "text": [
      "Using data from preloaded Raw for 50 events and 2051 original time points ...\n",
      "2 bad epochs dropped\n"
     ]
    },
    {
     "name": "stderr",
     "output_type": "stream",
     "text": [
      "/var/folders/zb/vnlk96b52x18jnx35vjsd4f40000gp/T/ipykernel_5590/2894069457.py:36: RuntimeWarning: Limited 1 annotation(s) that were expanding outside the data range.\n",
      "  raw = read_raw_bids(bids_path, verbose=False)\n"
     ]
    },
    {
     "name": "stdout",
     "output_type": "stream",
     "text": [
      "Using data from preloaded Raw for 50 events and 2051 original time points ...\n",
      "2 bad epochs dropped\n"
     ]
    },
    {
     "name": "stderr",
     "output_type": "stream",
     "text": [
      "/var/folders/zb/vnlk96b52x18jnx35vjsd4f40000gp/T/ipykernel_5590/2894069457.py:36: RuntimeWarning: Limited 1 annotation(s) that were expanding outside the data range.\n",
      "  raw = read_raw_bids(bids_path, verbose=False)\n"
     ]
    },
    {
     "name": "stdout",
     "output_type": "stream",
     "text": [
      "Using data from preloaded Raw for 50 events and 2051 original time points ...\n",
      "2 bad epochs dropped\n"
     ]
    },
    {
     "name": "stderr",
     "output_type": "stream",
     "text": [
      "/var/folders/zb/vnlk96b52x18jnx35vjsd4f40000gp/T/ipykernel_5590/2894069457.py:36: RuntimeWarning: Limited 1 annotation(s) that were expanding outside the data range.\n",
      "  raw = read_raw_bids(bids_path, verbose=False)\n"
     ]
    },
    {
     "name": "stdout",
     "output_type": "stream",
     "text": [
      "Using data from preloaded Raw for 50 events and 2051 original time points ...\n",
      "2 bad epochs dropped\n"
     ]
    },
    {
     "name": "stderr",
     "output_type": "stream",
     "text": [
      "/var/folders/zb/vnlk96b52x18jnx35vjsd4f40000gp/T/ipykernel_5590/2894069457.py:36: RuntimeWarning: Limited 1 annotation(s) that were expanding outside the data range.\n",
      "  raw = read_raw_bids(bids_path, verbose=False)\n"
     ]
    },
    {
     "name": "stdout",
     "output_type": "stream",
     "text": [
      "Using data from preloaded Raw for 50 events and 2051 original time points ...\n",
      "2 bad epochs dropped\n"
     ]
    },
    {
     "name": "stderr",
     "output_type": "stream",
     "text": [
      "/var/folders/zb/vnlk96b52x18jnx35vjsd4f40000gp/T/ipykernel_5590/2894069457.py:36: RuntimeWarning: Limited 1 annotation(s) that were expanding outside the data range.\n",
      "  raw = read_raw_bids(bids_path, verbose=False)\n"
     ]
    },
    {
     "name": "stdout",
     "output_type": "stream",
     "text": [
      "Using data from preloaded Raw for 50 events and 2051 original time points ...\n",
      "2 bad epochs dropped\n",
      "Using data from preloaded Raw for 50 events and 2051 original time points ...\n",
      "2 bad epochs dropped\n",
      "Using data from preloaded Raw for 50 events and 2051 original time points ...\n",
      "2 bad epochs dropped\n",
      "Using data from preloaded Raw for 50 events and 2051 original time points ...\n",
      "2 bad epochs dropped\n"
     ]
    },
    {
     "name": "stderr",
     "output_type": "stream",
     "text": [
      "/var/folders/zb/vnlk96b52x18jnx35vjsd4f40000gp/T/ipykernel_5590/2894069457.py:36: RuntimeWarning: Limited 1 annotation(s) that were expanding outside the data range.\n",
      "  raw = read_raw_bids(bids_path, verbose=False)\n",
      "/var/folders/zb/vnlk96b52x18jnx35vjsd4f40000gp/T/ipykernel_5590/2894069457.py:36: RuntimeWarning: Limited 1 annotation(s) that were expanding outside the data range.\n",
      "  raw = read_raw_bids(bids_path, verbose=False)\n",
      "/var/folders/zb/vnlk96b52x18jnx35vjsd4f40000gp/T/ipykernel_5590/2894069457.py:36: RuntimeWarning: Limited 1 annotation(s) that were expanding outside the data range.\n",
      "  raw = read_raw_bids(bids_path, verbose=False)\n"
     ]
    },
    {
     "name": "stdout",
     "output_type": "stream",
     "text": [
      "Using data from preloaded Raw for 50 events and 2051 original time points ...\n",
      "2 bad epochs dropped\n",
      "Using data from preloaded Raw for 50 events and 2051 original time points ...\n",
      "2 bad epochs dropped\n"
     ]
    },
    {
     "name": "stderr",
     "output_type": "stream",
     "text": [
      "/var/folders/zb/vnlk96b52x18jnx35vjsd4f40000gp/T/ipykernel_5590/2894069457.py:36: RuntimeWarning: Limited 1 annotation(s) that were expanding outside the data range.\n",
      "  raw = read_raw_bids(bids_path, verbose=False)\n",
      "/var/folders/zb/vnlk96b52x18jnx35vjsd4f40000gp/T/ipykernel_5590/2894069457.py:36: RuntimeWarning: Limited 1 annotation(s) that were expanding outside the data range.\n",
      "  raw = read_raw_bids(bids_path, verbose=False)\n"
     ]
    },
    {
     "name": "stdout",
     "output_type": "stream",
     "text": [
      "Using data from preloaded Raw for 50 events and 2051 original time points ...\n",
      "2 bad epochs dropped\n",
      "Using data from preloaded Raw for 50 events and 2051 original time points ...\n",
      "2 bad epochs dropped\n",
      "Using data from preloaded Raw for 50 events and 2051 original time points ...\n"
     ]
    },
    {
     "name": "stderr",
     "output_type": "stream",
     "text": [
      "/var/folders/zb/vnlk96b52x18jnx35vjsd4f40000gp/T/ipykernel_5590/2894069457.py:36: RuntimeWarning: Limited 1 annotation(s) that were expanding outside the data range.\n",
      "  raw = read_raw_bids(bids_path, verbose=False)\n",
      "/var/folders/zb/vnlk96b52x18jnx35vjsd4f40000gp/T/ipykernel_5590/2894069457.py:36: RuntimeWarning: Limited 1 annotation(s) that were expanding outside the data range.\n",
      "  raw = read_raw_bids(bids_path, verbose=False)\n",
      "/var/folders/zb/vnlk96b52x18jnx35vjsd4f40000gp/T/ipykernel_5590/2894069457.py:36: RuntimeWarning: Limited 1 annotation(s) that were expanding outside the data range.\n",
      "  raw = read_raw_bids(bids_path, verbose=False)\n"
     ]
    },
    {
     "name": "stdout",
     "output_type": "stream",
     "text": [
      "2 bad epochs dropped\n",
      "Using data from preloaded Raw for 50 events and 2051 original time points ...\n",
      "2 bad epochs dropped\n",
      "Using data from preloaded Raw for 50 events and 2051 original time points ...\n",
      "2 bad epochs dropped\n",
      "Using data from preloaded Raw for 50 events and 2051 original time points ...\n",
      "2 bad epochs dropped\n"
     ]
    },
    {
     "name": "stderr",
     "output_type": "stream",
     "text": [
      "/var/folders/zb/vnlk96b52x18jnx35vjsd4f40000gp/T/ipykernel_5590/2894069457.py:36: RuntimeWarning: Limited 1 annotation(s) that were expanding outside the data range.\n",
      "  raw = read_raw_bids(bids_path, verbose=False)\n",
      "/var/folders/zb/vnlk96b52x18jnx35vjsd4f40000gp/T/ipykernel_5590/2894069457.py:36: RuntimeWarning: Limited 1 annotation(s) that were expanding outside the data range.\n",
      "  raw = read_raw_bids(bids_path, verbose=False)\n",
      "/var/folders/zb/vnlk96b52x18jnx35vjsd4f40000gp/T/ipykernel_5590/2894069457.py:36: RuntimeWarning: Limited 1 annotation(s) that were expanding outside the data range.\n",
      "  raw = read_raw_bids(bids_path, verbose=False)\n",
      "/var/folders/zb/vnlk96b52x18jnx35vjsd4f40000gp/T/ipykernel_5590/2894069457.py:36: RuntimeWarning: Limited 1 annotation(s) that were expanding outside the data range.\n",
      "  raw = read_raw_bids(bids_path, verbose=False)\n"
     ]
    },
    {
     "name": "stdout",
     "output_type": "stream",
     "text": [
      "Using data from preloaded Raw for 49 events and 2051 original time points ...\n",
      "2 bad epochs dropped\n",
      "Using data from preloaded Raw for 50 events and 2051 original time points ...\n",
      "2 bad epochs dropped\n",
      "Using data from preloaded Raw for 50 events and 2051 original time points ...\n",
      "2 bad epochs dropped\n",
      "Using data from preloaded Raw for 50 events and 2051 original time points ...\n",
      "2 bad epochs dropped\n"
     ]
    },
    {
     "name": "stderr",
     "output_type": "stream",
     "text": [
      "/var/folders/zb/vnlk96b52x18jnx35vjsd4f40000gp/T/ipykernel_5590/2894069457.py:36: RuntimeWarning: Limited 1 annotation(s) that were expanding outside the data range.\n",
      "  raw = read_raw_bids(bids_path, verbose=False)\n",
      "/var/folders/zb/vnlk96b52x18jnx35vjsd4f40000gp/T/ipykernel_5590/2894069457.py:36: RuntimeWarning: Limited 1 annotation(s) that were expanding outside the data range.\n",
      "  raw = read_raw_bids(bids_path, verbose=False)\n",
      "/var/folders/zb/vnlk96b52x18jnx35vjsd4f40000gp/T/ipykernel_5590/2894069457.py:36: RuntimeWarning: Limited 1 annotation(s) that were expanding outside the data range.\n",
      "  raw = read_raw_bids(bids_path, verbose=False)\n",
      "/var/folders/zb/vnlk96b52x18jnx35vjsd4f40000gp/T/ipykernel_5590/2894069457.py:36: RuntimeWarning: Limited 1 annotation(s) that were expanding outside the data range.\n",
      "  raw = read_raw_bids(bids_path, verbose=False)\n"
     ]
    },
    {
     "name": "stdout",
     "output_type": "stream",
     "text": [
      "Using data from preloaded Raw for 48 events and 2051 original time points ...\n",
      "2 bad epochs dropped\n",
      "Using data from preloaded Raw for 50 events and 2051 original time points ...\n",
      "2 bad epochs dropped\n",
      "Using data from preloaded Raw for 50 events and 2051 original time points ...\n",
      "2 bad epochs dropped\n",
      "Using data from preloaded Raw for 49 events and 2051 original time points ...\n",
      "2 bad epochs dropped\n",
      "Using data from preloaded Raw for 49 events and 2051 original time points ...\n",
      "2 bad epochs dropped\n"
     ]
    },
    {
     "name": "stderr",
     "output_type": "stream",
     "text": [
      "/var/folders/zb/vnlk96b52x18jnx35vjsd4f40000gp/T/ipykernel_5590/2894069457.py:36: RuntimeWarning: Limited 1 annotation(s) that were expanding outside the data range.\n",
      "  raw = read_raw_bids(bids_path, verbose=False)\n",
      "/var/folders/zb/vnlk96b52x18jnx35vjsd4f40000gp/T/ipykernel_5590/2894069457.py:36: RuntimeWarning: Limited 1 annotation(s) that were expanding outside the data range.\n",
      "  raw = read_raw_bids(bids_path, verbose=False)\n",
      "/var/folders/zb/vnlk96b52x18jnx35vjsd4f40000gp/T/ipykernel_5590/2894069457.py:36: RuntimeWarning: Limited 1 annotation(s) that were expanding outside the data range.\n",
      "  raw = read_raw_bids(bids_path, verbose=False)\n",
      "/var/folders/zb/vnlk96b52x18jnx35vjsd4f40000gp/T/ipykernel_5590/2894069457.py:36: RuntimeWarning: Limited 1 annotation(s) that were expanding outside the data range.\n",
      "  raw = read_raw_bids(bids_path, verbose=False)\n",
      "/var/folders/zb/vnlk96b52x18jnx35vjsd4f40000gp/T/ipykernel_5590/2894069457.py:36: RuntimeWarning: Limited 1 annotation(s) that were expanding outside the data range.\n",
      "  raw = read_raw_bids(bids_path, verbose=False)\n"
     ]
    },
    {
     "name": "stdout",
     "output_type": "stream",
     "text": [
      "Using data from preloaded Raw for 48 events and 2051 original time points ...\n",
      "2 bad epochs dropped\n"
     ]
    },
    {
     "name": "stderr",
     "output_type": "stream",
     "text": [
      "/var/folders/zb/vnlk96b52x18jnx35vjsd4f40000gp/T/ipykernel_5590/2894069457.py:36: RuntimeWarning: Limited 1 annotation(s) that were expanding outside the data range.\n",
      "  raw = read_raw_bids(bids_path, verbose=False)\n"
     ]
    },
    {
     "name": "stdout",
     "output_type": "stream",
     "text": [
      "Using data from preloaded Raw for 43 events and 2051 original time points ...\n",
      "2 bad epochs dropped\n"
     ]
    },
    {
     "name": "stderr",
     "output_type": "stream",
     "text": [
      "/var/folders/zb/vnlk96b52x18jnx35vjsd4f40000gp/T/ipykernel_5590/2894069457.py:36: RuntimeWarning: Limited 1 annotation(s) that were expanding outside the data range.\n",
      "  raw = read_raw_bids(bids_path, verbose=False)\n"
     ]
    },
    {
     "name": "stdout",
     "output_type": "stream",
     "text": [
      "Using data from preloaded Raw for 34 events and 2051 original time points ...\n",
      "2 bad epochs dropped\n"
     ]
    },
    {
     "name": "stderr",
     "output_type": "stream",
     "text": [
      "/var/folders/zb/vnlk96b52x18jnx35vjsd4f40000gp/T/ipykernel_5590/2894069457.py:36: RuntimeWarning: Limited 1 annotation(s) that were expanding outside the data range.\n",
      "  raw = read_raw_bids(bids_path, verbose=False)\n"
     ]
    },
    {
     "name": "stdout",
     "output_type": "stream",
     "text": [
      "Using data from preloaded Raw for 50 events and 2051 original time points ...\n",
      "2 bad epochs dropped\n"
     ]
    },
    {
     "name": "stderr",
     "output_type": "stream",
     "text": [
      "/var/folders/zb/vnlk96b52x18jnx35vjsd4f40000gp/T/ipykernel_5590/2894069457.py:36: RuntimeWarning: Limited 1 annotation(s) that were expanding outside the data range.\n",
      "  raw = read_raw_bids(bids_path, verbose=False)\n"
     ]
    },
    {
     "name": "stdout",
     "output_type": "stream",
     "text": [
      "Using data from preloaded Raw for 50 events and 2051 original time points ...\n",
      "2 bad epochs dropped\n"
     ]
    },
    {
     "name": "stderr",
     "output_type": "stream",
     "text": [
      "/var/folders/zb/vnlk96b52x18jnx35vjsd4f40000gp/T/ipykernel_5590/2894069457.py:36: RuntimeWarning: Limited 1 annotation(s) that were expanding outside the data range.\n",
      "  raw = read_raw_bids(bids_path, verbose=False)\n"
     ]
    },
    {
     "name": "stdout",
     "output_type": "stream",
     "text": [
      "Using data from preloaded Raw for 50 events and 2051 original time points ...\n",
      "2 bad epochs dropped\n"
     ]
    },
    {
     "name": "stderr",
     "output_type": "stream",
     "text": [
      "/var/folders/zb/vnlk96b52x18jnx35vjsd4f40000gp/T/ipykernel_5590/2894069457.py:36: RuntimeWarning: Limited 1 annotation(s) that were expanding outside the data range.\n",
      "  raw = read_raw_bids(bids_path, verbose=False)\n"
     ]
    },
    {
     "name": "stdout",
     "output_type": "stream",
     "text": [
      "Using data from preloaded Raw for 50 events and 2051 original time points ...\n",
      "2 bad epochs dropped\n"
     ]
    },
    {
     "name": "stderr",
     "output_type": "stream",
     "text": [
      "/var/folders/zb/vnlk96b52x18jnx35vjsd4f40000gp/T/ipykernel_5590/2894069457.py:36: RuntimeWarning: Limited 1 annotation(s) that were expanding outside the data range.\n",
      "  raw = read_raw_bids(bids_path, verbose=False)\n"
     ]
    },
    {
     "name": "stdout",
     "output_type": "stream",
     "text": [
      "Using data from preloaded Raw for 50 events and 2051 original time points ...\n",
      "2 bad epochs dropped\n"
     ]
    },
    {
     "name": "stderr",
     "output_type": "stream",
     "text": [
      "/var/folders/zb/vnlk96b52x18jnx35vjsd4f40000gp/T/ipykernel_5590/2894069457.py:36: RuntimeWarning: Limited 1 annotation(s) that were expanding outside the data range.\n",
      "  raw = read_raw_bids(bids_path, verbose=False)\n"
     ]
    },
    {
     "name": "stdout",
     "output_type": "stream",
     "text": [
      "Using data from preloaded Raw for 50 events and 2051 original time points ...\n",
      "2 bad epochs dropped\n",
      "Using data from preloaded Raw for 50 events and 2051 original time points ...\n",
      "2 bad epochs dropped\n",
      "Using data from preloaded Raw for 50 events and 2051 original time points ...\n",
      "2 bad epochs dropped\n",
      "Using data from preloaded Raw for 50 events and 2051 original time points ...\n",
      "2 bad epochs dropped\n"
     ]
    },
    {
     "name": "stderr",
     "output_type": "stream",
     "text": [
      "/var/folders/zb/vnlk96b52x18jnx35vjsd4f40000gp/T/ipykernel_5590/2894069457.py:36: RuntimeWarning: Limited 1 annotation(s) that were expanding outside the data range.\n",
      "  raw = read_raw_bids(bids_path, verbose=False)\n",
      "/var/folders/zb/vnlk96b52x18jnx35vjsd4f40000gp/T/ipykernel_5590/2894069457.py:36: RuntimeWarning: Limited 1 annotation(s) that were expanding outside the data range.\n",
      "  raw = read_raw_bids(bids_path, verbose=False)\n",
      "/var/folders/zb/vnlk96b52x18jnx35vjsd4f40000gp/T/ipykernel_5590/2894069457.py:36: RuntimeWarning: Limited 1 annotation(s) that were expanding outside the data range.\n",
      "  raw = read_raw_bids(bids_path, verbose=False)\n"
     ]
    },
    {
     "name": "stdout",
     "output_type": "stream",
     "text": [
      "Using data from preloaded Raw for 47 events and 2051 original time points ...\n",
      "2 bad epochs dropped\n",
      "Using data from preloaded Raw for 46 events and 2051 original time points ...\n",
      "2 bad epochs dropped\n",
      "Using data from preloaded Raw for 48 events and 2051 original time points ...\n",
      "2 bad epochs dropped\n",
      "Using data from preloaded Raw for 50 events and 2051 original time points ...\n",
      "2 bad epochs dropped\n"
     ]
    },
    {
     "name": "stderr",
     "output_type": "stream",
     "text": [
      "/var/folders/zb/vnlk96b52x18jnx35vjsd4f40000gp/T/ipykernel_5590/2894069457.py:36: RuntimeWarning: Limited 1 annotation(s) that were expanding outside the data range.\n",
      "  raw = read_raw_bids(bids_path, verbose=False)\n",
      "/var/folders/zb/vnlk96b52x18jnx35vjsd4f40000gp/T/ipykernel_5590/2894069457.py:36: RuntimeWarning: Limited 1 annotation(s) that were expanding outside the data range.\n",
      "  raw = read_raw_bids(bids_path, verbose=False)\n",
      "/var/folders/zb/vnlk96b52x18jnx35vjsd4f40000gp/T/ipykernel_5590/2894069457.py:36: RuntimeWarning: Limited 1 annotation(s) that were expanding outside the data range.\n",
      "  raw = read_raw_bids(bids_path, verbose=False)\n",
      "/var/folders/zb/vnlk96b52x18jnx35vjsd4f40000gp/T/ipykernel_5590/2894069457.py:36: RuntimeWarning: Limited 1 annotation(s) that were expanding outside the data range.\n",
      "  raw = read_raw_bids(bids_path, verbose=False)\n",
      "/var/folders/zb/vnlk96b52x18jnx35vjsd4f40000gp/T/ipykernel_5590/2894069457.py:36: RuntimeWarning: Limited 1 annotation(s) that were expanding outside the data range.\n",
      "  raw = read_raw_bids(bids_path, verbose=False)\n"
     ]
    },
    {
     "name": "stdout",
     "output_type": "stream",
     "text": [
      "Using data from preloaded Raw for 50 events and 2051 original time points ...\n",
      "2 bad epochs dropped\n",
      "Using data from preloaded Raw for 49 events and 2051 original time points ...\n",
      "2 bad epochs dropped\n",
      "Using data from preloaded Raw for 49 events and 2051 original time points ...\n",
      "2 bad epochs dropped\n",
      "Using data from preloaded Raw for 50 events and 2051 original time points ...\n",
      "2 bad epochs dropped\n",
      "Using data from preloaded Raw for 50 events and 2051 original time points ...\n",
      "2 bad epochs dropped\n"
     ]
    },
    {
     "name": "stderr",
     "output_type": "stream",
     "text": [
      "/var/folders/zb/vnlk96b52x18jnx35vjsd4f40000gp/T/ipykernel_5590/2894069457.py:36: RuntimeWarning: Limited 1 annotation(s) that were expanding outside the data range.\n",
      "  raw = read_raw_bids(bids_path, verbose=False)\n",
      "/var/folders/zb/vnlk96b52x18jnx35vjsd4f40000gp/T/ipykernel_5590/2894069457.py:36: RuntimeWarning: Limited 1 annotation(s) that were expanding outside the data range.\n",
      "  raw = read_raw_bids(bids_path, verbose=False)\n",
      "/var/folders/zb/vnlk96b52x18jnx35vjsd4f40000gp/T/ipykernel_5590/2894069457.py:36: RuntimeWarning: Limited 1 annotation(s) that were expanding outside the data range.\n",
      "  raw = read_raw_bids(bids_path, verbose=False)\n",
      "/var/folders/zb/vnlk96b52x18jnx35vjsd4f40000gp/T/ipykernel_5590/2894069457.py:36: RuntimeWarning: Limited 1 annotation(s) that were expanding outside the data range.\n",
      "  raw = read_raw_bids(bids_path, verbose=False)\n",
      "/var/folders/zb/vnlk96b52x18jnx35vjsd4f40000gp/T/ipykernel_5590/2894069457.py:36: RuntimeWarning: Limited 1 annotation(s) that were expanding outside the data range.\n",
      "  raw = read_raw_bids(bids_path, verbose=False)\n"
     ]
    },
    {
     "name": "stdout",
     "output_type": "stream",
     "text": [
      "Using data from preloaded Raw for 47 events and 2051 original time points ...\n",
      "2 bad epochs dropped\n",
      "Using data from preloaded Raw for 50 events and 2051 original time points ...\n",
      "2 bad epochs dropped\n",
      "Using data from preloaded Raw for 49 events and 2051 original time points ...\n",
      "2 bad epochs dropped\n",
      "Total number of samples: 3217\n"
     ]
    },
    {
     "name": "stderr",
     "output_type": "stream",
     "text": [
      "/var/folders/zb/vnlk96b52x18jnx35vjsd4f40000gp/T/ipykernel_5590/2894069457.py:36: RuntimeWarning: Limited 1 annotation(s) that were expanding outside the data range.\n",
      "  raw = read_raw_bids(bids_path, verbose=False)\n",
      "/var/folders/zb/vnlk96b52x18jnx35vjsd4f40000gp/T/ipykernel_5590/2894069457.py:36: RuntimeWarning: Limited 1 annotation(s) that were expanding outside the data range.\n",
      "  raw = read_raw_bids(bids_path, verbose=False)\n"
     ]
    }
   ],
   "source": [
    "from torch.nn.utils.rnn import pad_sequence\n",
    "\n",
    "# Initialize the custom dataset\n",
    "bids_root = 'data'\n",
    "patients_tsv = 'data/participants.tsv'\n",
    "dataset = BIDSEEGDataset(bids_root, patients_tsv)\n",
    "\n",
    "# dataset stats\n",
    "print(f'Total number of samples: {len(dataset)}')\n",
    "\n",
    "# print number of different pathology labels\n"
   ]
  },
  {
   "cell_type": "code",
   "execution_count": 5,
   "metadata": {},
   "outputs": [
    {
     "name": "stdout",
     "output_type": "stream",
     "text": [
      "Distribution of the samples: {torch.Size([8, 2051]): 3217}\n"
     ]
    }
   ],
   "source": [
    "# get the distribution of the shape of the samples\n",
    "shapes = {}\n",
    "for sample, _ in dataset:\n",
    "    shape = sample.shape\n",
    "    if shape in shapes:\n",
    "        shapes[shape] += 1\n",
    "    else:\n",
    "        shapes[shape] = 1\n",
    "\n",
    "print(f'Distribution of the samples: {shapes}')"
   ]
  },
  {
   "cell_type": "code",
   "execution_count": 6,
   "metadata": {},
   "outputs": [],
   "source": [
    "# Create test, validation and train splits\n",
    "from sklearn.model_selection import train_test_split\n",
    "from torch.utils.data import Subset\n",
    "\n",
    "# Split the dataset into training and a temporary set (70% train, 30% temp)\n",
    "# we need this to not loose the `all_labels` list\n",
    "train_indices, temp_indices = train_test_split(\n",
    "    list(range(len(dataset))),\n",
    "    test_size=0.3,\n",
    "    random_state=42,\n",
    "    stratify=dataset.all_labels,\n",
    "    shuffle=True\n",
    ")\n",
    "\n",
    "# Split the temporary set into validation and test sets (50% validation, 50% test of the temp set)\n",
    "val_indices, test_indices = train_test_split(\n",
    "    temp_indices,\n",
    "    test_size=0.5,\n",
    "    random_state=42,\n",
    "    stratify=[dataset.all_labels[i] for i in temp_indices],\n",
    "    shuffle=True\n",
    ")\n",
    "\n",
    "# Create Subset instances using the split indices\n",
    "train_dataset = Subset(dataset, train_indices)\n",
    "val_dataset = Subset(dataset, val_indices)\n",
    "test_dataset = Subset(dataset, test_indices)\n"
   ]
  },
  {
   "cell_type": "code",
   "execution_count": 7,
   "metadata": {},
   "outputs": [],
   "source": [
    "batch_size = 32\n",
    "\n",
    "# Create data loaders\n",
    "train_loader = DataLoader(train_dataset, batch_size=batch_size, shuffle=True)\n",
    "val_loader = DataLoader(val_dataset, batch_size=batch_size, shuffle=False)\n",
    "test_loader = DataLoader(test_dataset, batch_size=batch_size, shuffle=False)"
   ]
  },
  {
   "cell_type": "code",
   "execution_count": 14,
   "metadata": {},
   "outputs": [],
   "source": [
    "from torch import nn\n",
    "import torch.nn.functional as F\n",
    "\n",
    "class EEGNet(nn.Module):\n",
    "    def __init__(self, Chans=8, Samples=2051, dropoutRate=0.5, kernLength=64, F1=8, D=2, F2=16, norm_rate=0.25, dropoutType='Dropout', outputs=2):\n",
    "        super(EEGNet, self).__init__()\n",
    "        \n",
    "        # First Convolutional Block\n",
    "        self.block1 = nn.Sequential(\n",
    "            nn.Conv2d(1, F1, (1, kernLength), padding=(0, kernLength // 2), bias=False),\n",
    "            nn.BatchNorm2d(F1),\n",
    "            nn.ReLU(),\n",
    "            nn.AvgPool2d((1, 4)),\n",
    "            nn.Dropout(dropoutRate)\n",
    "        )\n",
    "        \n",
    "        # Depthwise Convolution\n",
    "        self.depthwise = nn.Conv2d(F1, F1*D, (Chans, 1), groups=F1, bias=False)\n",
    "        self.depthwise_bn = nn.BatchNorm2d(F1*D)\n",
    "        self.depthwise_activation = nn.ReLU()\n",
    "        \n",
    "        # Separable Convolution\n",
    "        self.pointwise = nn.Conv2d(F1*D, F2, (1, 1), bias=False)\n",
    "        self.pointwise_bn = nn.BatchNorm2d(F2)\n",
    "        self.pointwise_activation = nn.ReLU()\n",
    "        self.pointwise_pooling = nn.AvgPool2d((1, 8))\n",
    "        self.pointwise_dropout = nn.Dropout(dropoutRate)\n",
    "        \n",
    "        # Classification Layer\n",
    "        self.classify = nn.Linear(F2, outputs)\n",
    "        \n",
    "    def forward(self, x):\n",
    "        x = x.unsqueeze(1)\n",
    "        x = self.block1(x)\n",
    "        \n",
    "        # Depthwise Convolution\n",
    "        x = self.depthwise(x)\n",
    "        x = self.depthwise_bn(x)\n",
    "        x = self.depthwise_activation(x)\n",
    "        \n",
    "        # Separable Convolution\n",
    "        x = self.pointwise(x)\n",
    "        x = self.pointwise_bn(x)\n",
    "        x = self.pointwise_activation(x)\n",
    "        x = self.pointwise_pooling(x)\n",
    "        x = self.pointwise_dropout(x)\n",
    "        \n",
    "        x = F.adaptive_avg_pool2d(x, (1, 1)).squeeze()\n",
    "        x = self.classify(x)\n",
    "        x = F.log_softmax(x, dim=1)\n",
    "        return x"
   ]
  },
  {
   "cell_type": "code",
   "execution_count": 15,
   "metadata": {},
   "outputs": [],
   "source": [
    "from torch import optim\n",
    "\n",
    "net = EEGNet(outputs=len(dataset.labels))\n",
    "\n",
    "criterion = nn.CrossEntropyLoss()\n",
    "optimizer = optim.Adam(net.parameters())"
   ]
  },
  {
   "cell_type": "code",
   "execution_count": 20,
   "metadata": {},
   "outputs": [
    {
     "name": "stderr",
     "output_type": "stream",
     "text": [
      "Epoch [6/100], Training Loss: 1.1165, Training Accuracy: 56.82%, Validation Loss: 1.0513, Validation Accuracy: 57.97%:   6%|▌         | 6/100 [00:06<01:41,  1.08s/it]"
     ]
    }
   ],
   "source": [
    "import torch\n",
    "import torch.optim as optim\n",
    "from tqdm import tqdm\n",
    "\n",
    "# Hyperparameters\n",
    "learning_rate = 0.001\n",
    "num_epochs = 100\n",
    "device = torch.device(\"cuda\" if torch.cuda.is_available() else \"mps\" if torch.backends.mps.is_available() else \"cpu\")\n",
    "\n",
    "# Initialize the model, criterion, and optimizer\n",
    "model = EEGNet(outputs=len(dataset.labels)).to(device)\n",
    "criterion = nn.CrossEntropyLoss()\n",
    "optimizer = optim.Adam(model.parameters(), lr=learning_rate)\n",
    "best_val_accuracy = 0.0  # To keep track of the best validation accuracy\n",
    "\n",
    "# Lists to store metrics for plotting\n",
    "train_losses = []\n",
    "val_losses = []\n",
    "train_accuracies = []\n",
    "val_accuracies = []\n",
    "\n",
    "# Training loop\n",
    "pbar = tqdm(range(num_epochs))\n",
    "for epoch in pbar:\n",
    "    model.train()  # Set the model to training mode\n",
    "    total_loss = 0.0\n",
    "    correct = 0\n",
    "    total = 0\n",
    "    \n",
    "    # Training Phase\n",
    "    for batch_idx, (data, labels) in enumerate(train_loader):\n",
    "        data, labels = data.to(device), labels.to(device)\n",
    "        \n",
    "        # Zero the parameter gradients\n",
    "        optimizer.zero_grad()\n",
    "        \n",
    "        # Forward pass\n",
    "        outputs = model(data)\n",
    "        loss = criterion(outputs, labels)\n",
    "        \n",
    "        # Backward pass and optimize\n",
    "        loss.backward()\n",
    "        optimizer.step()\n",
    "        \n",
    "        total_loss += loss.item()\n",
    "        _, predicted = outputs.max(1)\n",
    "        total += labels.size(0)\n",
    "        correct += predicted.eq(labels).sum().item()\n",
    "        \n",
    "    train_accuracy = 100.*correct/total\n",
    "    train_losses.append(total_loss/len(train_loader))\n",
    "    train_accuracies.append(train_accuracy)\n",
    "    \n",
    "    # Validation Phase\n",
    "    model.eval()  # Set the model to evaluation mode\n",
    "    val_correct = 0\n",
    "    val_total = 0\n",
    "    val_loss = 0.0\n",
    "    with torch.no_grad():\n",
    "        for data, labels in val_loader:\n",
    "            data, labels = data.to(device), labels.to(device)\n",
    "            outputs = model(data)\n",
    "            loss = criterion(outputs, labels)\n",
    "            _, predicted = outputs.max(1)\n",
    "            val_total += labels.size(0)\n",
    "            val_correct += predicted.eq(labels).sum().item()\n",
    "            val_loss += loss.item()\n",
    "    \n",
    "    val_accuracy = 100. * val_correct / val_total\n",
    "    val_losses.append(val_loss/len(val_loader))\n",
    "    val_accuracies.append(val_accuracy)\n",
    "    \n",
    "    pbar.set_description(f\"Epoch [{epoch+1}/{num_epochs}], Training Loss: {total_loss/len(train_loader):.4f}, Training Accuracy: {train_accuracy:.2f}%, Validation Loss: {val_loss/len(val_loader):.4f}, Validation Accuracy: {val_accuracy:.2f}%\")\n",
    "    \n",
    "    # Save the model if it has the best validation accuracy so far\n",
    "    if val_accuracy > best_val_accuracy:\n",
    "        best_val_accuracy = val_accuracy\n",
    "        torch.save(model.state_dict(), 'best_model.pth')\n",
    "\n",
    "# Final test on the test dataset\n",
    "model.eval()  # Set the model to evaluation mode\n",
    "test_correct = 0\n",
    "test_total = 0\n",
    "with torch.no_grad():\n",
    "    for data, labels in test_loader:\n",
    "        data, labels = data.to(device), labels.to(device)\n",
    "        outputs = model(data)\n",
    "        _, predicted = outputs.max(1)\n",
    "        test_total += labels.size(0)\n",
    "        test_correct += predicted.eq(labels).sum().item()\n",
    "\n",
    "test_accuracy = 100. * test_correct / test_total\n",
    "print(f\"Test Accuracy: {test_accuracy:.2f}%\")\n",
    "\n"
   ]
  },
  {
   "cell_type": "code",
   "execution_count": 19,
   "metadata": {},
   "outputs": [
    {
     "data": {
      "image/png": "[encoded data removed]",
      "text/plain": [
       "<Figure size 640x480 with 1 Axes>"
      ]
     },
     "metadata": {},
     "output_type": "display_data"
    },
    {
     "data": {
      "image/png": "[encoded data removed]",
      "text/plain": [
       "<Figure size 640x480 with 1 Axes>"
      ]
     },
     "metadata": {},
     "output_type": "display_data"
    }
   ],
   "source": [
    "from matplotlib import pyplot as plt\n",
    "\n",
    "# Plotting\n",
    "epochs = range(1, num_epochs + 1)\n",
    "\n",
    "# Plot training and validation accuracy\n",
    "plt.figure()\n",
    "plt.plot(epochs, train_accuracies, label='Training Accuracy')\n",
    "plt.plot(epochs, val_accuracies, label='Validation Accuracy')\n",
    "plt.title('Training and Validation Accuracy')\n",
    "plt.xlabel('Epochs')\n",
    "plt.ylabel('Accuracy (%)')\n",
    "plt.legend()\n",
    "plt.show()\n",
    "\n",
    "# Plot training and validation loss\n",
    "plt.figure()\n",
    "plt.plot(epochs, train_losses, label='Training Loss')\n",
    "plt.plot(epochs, val_losses, label='Validation Loss')\n",
    "plt.title('Training and Validation Loss')\n",
    "plt.xlabel('Epochs')\n",
    "plt.ylabel('Loss')\n",
    "plt.legend()\n",
    "plt.show()"
   ]
  }
 ],
 "metadata": {
  "kernelspec": {
   "display_name": "Python 3",
   "language": "python",
   "name": "python3"
  },
  "language_info": {
   "codemirror_mode": {
    "name": "ipython",
    "version": 3
   },
   "file_extension": ".py",
   "mimetype": "text/x-python",
   "name": "python",
   "nbconvert_exporter": "python",
   "pygments_lexer": "ipython3",
   "version": "3.9.6"
  }
 },
 "nbformat": 4,
 "nbformat_minor": 2
}
