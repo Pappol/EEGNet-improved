{
 "cells": [
  {
   "cell_type": "markdown",
   "metadata": {},
   "source": [
    "# Dividing the data into epochs with mne"
   ]
  },
  {
   "cell_type": "code",
   "execution_count": 41,
   "metadata": {},
   "outputs": [],
   "source": [
    "import os\n",
    "import mne\n",
    "import torch\n",
    "import pandas as pd\n",
    "from torch.utils.data import Dataset, DataLoader\n",
    "from mne_bids import read_raw_bids, BIDSPath\n",
    "\n",
    "class BIDSEEGDataset(Dataset):\n",
    "    def __init__(self, bids_root, patients_tsv):\n",
    "        self.bids_root = bids_root\n",
    "\n",
    "        # use only these channels for classification\n",
    "        self.selected_channels = ['F3','F4','C3','C4','O1','O2','A1','A2']\n",
    "\n",
    "        # read the patients.tsv file\n",
    "        self.patients_df = pd.read_csv(patients_tsv, delimiter='\\t')\n",
    "\n",
    "        # create a dictionary with patient_id as key and pathology as value\n",
    "        self.pathology_dict = dict(zip(self.patients_df['participant_id'], self.patients_df['pathology']))\n",
    "\n",
    "        # get all the subjects in the bids_root\n",
    "        self.subjects = [d for d in os.listdir(bids_root) if d.startswith('sub-')] # ['sub-03'] #\n",
    "        self.all_epochs = []\n",
    "        self.all_labels = []\n",
    "\n",
    "        for subject in self.subjects:\n",
    "            subject_id = subject.replace('sub-', '')\n",
    "            subject_folder = os.path.join(self.bids_root, subject)\n",
    "            sessions = [d for d in os.listdir(subject_folder) if d.startswith('ses-')]\n",
    "\n",
    "            for session in sessions:\n",
    "                session_id = session.replace('ses-', '')\n",
    "                bids_path = BIDSPath(subject=subject_id, session=session_id, task='verbalWM',\n",
    "                                              run='01', datatype='eeg', root=self.bids_root)\n",
    "                try:\n",
    "                    raw = read_raw_bids(bids_path, verbose=False)\n",
    "                except FileNotFoundError:\n",
    "                    continue\n",
    "                raw.load_data(verbose=False)\n",
    "                \n",
    "                raw.filter(l_freq=1, h_freq=None, verbose=False) #, fir_design='firwin', skip_by_annotation='edge')\n",
    "                raw.pick(picks=self.selected_channels, verbose=False)\n",
    "\n",
    "                # raw[0] --> channel\n",
    "                # raw[1] --> ha len 1\n",
    "                # raw[2] --> tutte le time series da 0 a 80000 (o piu)\n",
    "                # raw[3] --> singolo valore\n",
    "\n",
    "                events, _ = mne.events_from_annotations(raw, verbose=False)\n",
    "                epochs = mne.Epochs(raw, events, verbose=True, tmax=8)\n",
    "                pathology_label = self.pathology_dict.get(f'sub-{subject_id}', 'Unknown')\n",
    "                i = False\n",
    "                for epoch_data in epochs.get_data():\n",
    "                    self.all_epochs.append(epoch_data)\n",
    "                    self.all_labels.append(pathology_label)\n",
    "                    if not i:\n",
    "                        print(\"Shape for subject {} and session {} is {}\".format(subject_id, session_id, epoch_data.shape))\n",
    "                        i = True\n",
    "\n",
    "\n",
    "    def __len__(self):\n",
    "        return len(self.all_epochs)\n",
    "\n",
    "    def __getitem__(self, idx):\n",
    "        epoch_data = self.all_epochs[idx]\n",
    "        pathology_label = self.all_labels[idx]\n",
    "        return torch.tensor(epoch_data, dtype=torch.float32), pathology_label"
   ]
  },
  {
   "cell_type": "code",
   "execution_count": 42,
   "metadata": {},
   "outputs": [
    {
     "name": "stderr",
     "output_type": "stream",
     "text": [
      "/var/folders/zb/vnlk96b52x18jnx35vjsd4f40000gp/T/ipykernel_44282/108631686.py:36: RuntimeWarning: Limited 1 annotation(s) that were expanding outside the data range.\n",
      "  raw = read_raw_bids(bids_path, verbose=False)\n"
     ]
    },
    {
     "name": "stdout",
     "output_type": "stream",
     "text": [
      "Not setting metadata\n",
      "50 matching events found\n",
      "Setting baseline interval to [-0.199951171875, 0.0] s\n",
      "Applying baseline correction (mode: mean)\n",
      "0 projection items activated\n",
      "Using data from preloaded Raw for 50 events and 33588 original time points ...\n",
      "2 bad epochs dropped\n",
      "Shape for subject 13 and session 02 is (8, 33588)\n"
     ]
    },
    {
     "name": "stderr",
     "output_type": "stream",
     "text": [
      "/var/folders/zb/vnlk96b52x18jnx35vjsd4f40000gp/T/ipykernel_44282/108631686.py:36: RuntimeWarning: Limited 1 annotation(s) that were expanding outside the data range.\n",
      "  raw = read_raw_bids(bids_path, verbose=False)\n"
     ]
    },
    {
     "name": "stdout",
     "output_type": "stream",
     "text": [
      "Not setting metadata\n",
      "50 matching events found\n",
      "Setting baseline interval to [-0.199951171875, 0.0] s\n",
      "Applying baseline correction (mode: mean)\n",
      "0 projection items activated\n",
      "Using data from preloaded Raw for 50 events and 33588 original time points ...\n",
      "2 bad epochs dropped\n",
      "Shape for subject 13 and session 05 is (8, 33588)\n"
     ]
    },
    {
     "name": "stderr",
     "output_type": "stream",
     "text": [
      "/var/folders/zb/vnlk96b52x18jnx35vjsd4f40000gp/T/ipykernel_44282/108631686.py:36: RuntimeWarning: Limited 1 annotation(s) that were expanding outside the data range.\n",
      "  raw = read_raw_bids(bids_path, verbose=False)\n"
     ]
    },
    {
     "name": "stdout",
     "output_type": "stream",
     "text": [
      "Not setting metadata\n",
      "50 matching events found\n",
      "Setting baseline interval to [-0.199951171875, 0.0] s\n",
      "Applying baseline correction (mode: mean)\n",
      "0 projection items activated\n",
      "Using data from preloaded Raw for 50 events and 33588 original time points ...\n",
      "2 bad epochs dropped\n",
      "Shape for subject 13 and session 04 is (8, 33588)\n"
     ]
    },
    {
     "name": "stderr",
     "output_type": "stream",
     "text": [
      "/var/folders/zb/vnlk96b52x18jnx35vjsd4f40000gp/T/ipykernel_44282/108631686.py:36: RuntimeWarning: Limited 1 annotation(s) that were expanding outside the data range.\n",
      "  raw = read_raw_bids(bids_path, verbose=False)\n"
     ]
    },
    {
     "name": "stdout",
     "output_type": "stream",
     "text": [
      "Not setting metadata\n",
      "50 matching events found\n",
      "Setting baseline interval to [-0.199951171875, 0.0] s\n",
      "Applying baseline correction (mode: mean)\n",
      "0 projection items activated\n",
      "Using data from preloaded Raw for 50 events and 33588 original time points ...\n",
      "2 bad epochs dropped\n",
      "Shape for subject 13 and session 03 is (8, 33588)\n"
     ]
    },
    {
     "name": "stderr",
     "output_type": "stream",
     "text": [
      "/var/folders/zb/vnlk96b52x18jnx35vjsd4f40000gp/T/ipykernel_44282/108631686.py:36: RuntimeWarning: Limited 1 annotation(s) that were expanding outside the data range.\n",
      "  raw = read_raw_bids(bids_path, verbose=False)\n"
     ]
    },
    {
     "name": "stdout",
     "output_type": "stream",
     "text": [
      "Not setting metadata\n",
      "50 matching events found\n",
      "Setting baseline interval to [-0.199951171875, 0.0] s\n",
      "Applying baseline correction (mode: mean)\n",
      "0 projection items activated\n",
      "Using data from preloaded Raw for 50 events and 33588 original time points ...\n",
      "2 bad epochs dropped\n",
      "Shape for subject 13 and session 06 is (8, 33588)\n"
     ]
    },
    {
     "name": "stderr",
     "output_type": "stream",
     "text": [
      "/var/folders/zb/vnlk96b52x18jnx35vjsd4f40000gp/T/ipykernel_44282/108631686.py:36: RuntimeWarning: Limited 1 annotation(s) that were expanding outside the data range.\n",
      "  raw = read_raw_bids(bids_path, verbose=False)\n"
     ]
    },
    {
     "name": "stdout",
     "output_type": "stream",
     "text": [
      "Not setting metadata\n",
      "50 matching events found\n",
      "Setting baseline interval to [-0.199951171875, 0.0] s\n",
      "Applying baseline correction (mode: mean)\n",
      "0 projection items activated\n",
      "Using data from preloaded Raw for 50 events and 33588 original time points ...\n",
      "2 bad epochs dropped\n",
      "Shape for subject 13 and session 01 is (8, 33588)\n"
     ]
    },
    {
     "name": "stderr",
     "output_type": "stream",
     "text": [
      "/var/folders/zb/vnlk96b52x18jnx35vjsd4f40000gp/T/ipykernel_44282/108631686.py:36: RuntimeWarning: Limited 1 annotation(s) that were expanding outside the data range.\n",
      "  raw = read_raw_bids(bids_path, verbose=False)\n"
     ]
    },
    {
     "name": "stdout",
     "output_type": "stream",
     "text": [
      "Not setting metadata\n",
      "50 matching events found\n",
      "Setting baseline interval to [-0.2, 0.0] s\n",
      "Applying baseline correction (mode: mean)\n",
      "0 projection items activated\n",
      "Using data from preloaded Raw for 50 events and 32801 original time points ...\n",
      "2 bad epochs dropped\n",
      "Shape for subject 14 and session 02 is (8, 32801)\n"
     ]
    },
    {
     "name": "stderr",
     "output_type": "stream",
     "text": [
      "/var/folders/zb/vnlk96b52x18jnx35vjsd4f40000gp/T/ipykernel_44282/108631686.py:36: RuntimeWarning: Limited 1 annotation(s) that were expanding outside the data range.\n",
      "  raw = read_raw_bids(bids_path, verbose=False)\n"
     ]
    },
    {
     "name": "stdout",
     "output_type": "stream",
     "text": [
      "Not setting metadata\n",
      "48 matching events found\n",
      "Setting baseline interval to [-0.2, 0.0] s\n",
      "Applying baseline correction (mode: mean)\n",
      "0 projection items activated\n",
      "Using data from preloaded Raw for 48 events and 32801 original time points ...\n",
      "2 bad epochs dropped\n",
      "Shape for subject 14 and session 05 is (8, 32801)\n"
     ]
    },
    {
     "name": "stderr",
     "output_type": "stream",
     "text": [
      "/var/folders/zb/vnlk96b52x18jnx35vjsd4f40000gp/T/ipykernel_44282/108631686.py:36: RuntimeWarning: Limited 1 annotation(s) that were expanding outside the data range.\n",
      "  raw = read_raw_bids(bids_path, verbose=False)\n"
     ]
    },
    {
     "name": "stdout",
     "output_type": "stream",
     "text": [
      "Not setting metadata\n",
      "50 matching events found\n",
      "Setting baseline interval to [-0.2, 0.0] s\n",
      "Applying baseline correction (mode: mean)\n",
      "0 projection items activated\n",
      "Using data from preloaded Raw for 50 events and 32801 original time points ...\n",
      "2 bad epochs dropped\n",
      "Shape for subject 14 and session 04 is (8, 32801)\n"
     ]
    },
    {
     "name": "stderr",
     "output_type": "stream",
     "text": [
      "/var/folders/zb/vnlk96b52x18jnx35vjsd4f40000gp/T/ipykernel_44282/108631686.py:36: RuntimeWarning: Limited 1 annotation(s) that were expanding outside the data range.\n",
      "  raw = read_raw_bids(bids_path, verbose=False)\n"
     ]
    },
    {
     "name": "stdout",
     "output_type": "stream",
     "text": [
      "Not setting metadata\n",
      "50 matching events found\n",
      "Setting baseline interval to [-0.2, 0.0] s\n",
      "Applying baseline correction (mode: mean)\n",
      "0 projection items activated\n",
      "Using data from preloaded Raw for 50 events and 32801 original time points ...\n",
      "2 bad epochs dropped\n",
      "Shape for subject 14 and session 03 is (8, 32801)\n"
     ]
    },
    {
     "name": "stderr",
     "output_type": "stream",
     "text": [
      "/var/folders/zb/vnlk96b52x18jnx35vjsd4f40000gp/T/ipykernel_44282/108631686.py:36: RuntimeWarning: Invalid date encountered (2023-09-13 14:23:60).\n",
      "  raw = read_raw_bids(bids_path, verbose=False)\n",
      "/var/folders/zb/vnlk96b52x18jnx35vjsd4f40000gp/T/ipykernel_44282/108631686.py:36: RuntimeWarning: Limited 1 annotation(s) that were expanding outside the data range.\n",
      "  raw = read_raw_bids(bids_path, verbose=False)\n"
     ]
    },
    {
     "name": "stdout",
     "output_type": "stream",
     "text": [
      "Not setting metadata\n",
      "50 matching events found\n",
      "Setting baseline interval to [-0.2, 0.0] s\n",
      "Applying baseline correction (mode: mean)\n",
      "0 projection items activated\n",
      "Using data from preloaded Raw for 50 events and 32801 original time points ...\n",
      "2 bad epochs dropped\n",
      "Shape for subject 14 and session 06 is (8, 32801)\n"
     ]
    },
    {
     "name": "stderr",
     "output_type": "stream",
     "text": [
      "/var/folders/zb/vnlk96b52x18jnx35vjsd4f40000gp/T/ipykernel_44282/108631686.py:36: RuntimeWarning: Limited 1 annotation(s) that were expanding outside the data range.\n",
      "  raw = read_raw_bids(bids_path, verbose=False)\n"
     ]
    },
    {
     "name": "stdout",
     "output_type": "stream",
     "text": [
      "Not setting metadata\n",
      "50 matching events found\n",
      "Setting baseline interval to [-0.2, 0.0] s\n",
      "Applying baseline correction (mode: mean)\n",
      "0 projection items activated\n",
      "Using data from preloaded Raw for 50 events and 32801 original time points ...\n",
      "2 bad epochs dropped\n",
      "Shape for subject 14 and session 01 is (8, 32801)\n"
     ]
    },
    {
     "name": "stderr",
     "output_type": "stream",
     "text": [
      "/var/folders/zb/vnlk96b52x18jnx35vjsd4f40000gp/T/ipykernel_44282/108631686.py:36: RuntimeWarning: Limited 1 annotation(s) that were expanding outside the data range.\n",
      "  raw = read_raw_bids(bids_path, verbose=False)\n"
     ]
    },
    {
     "name": "stdout",
     "output_type": "stream",
     "text": [
      "Not setting metadata\n",
      "50 matching events found\n",
      "Setting baseline interval to [-0.2, 0.0] s\n",
      "Applying baseline correction (mode: mean)\n",
      "0 projection items activated\n",
      "Using data from preloaded Raw for 50 events and 32801 original time points ...\n",
      "2 bad epochs dropped\n",
      "Shape for subject 14 and session 08 is (8, 32801)\n"
     ]
    },
    {
     "name": "stderr",
     "output_type": "stream",
     "text": [
      "/var/folders/zb/vnlk96b52x18jnx35vjsd4f40000gp/T/ipykernel_44282/108631686.py:36: RuntimeWarning: Limited 1 annotation(s) that were expanding outside the data range.\n",
      "  raw = read_raw_bids(bids_path, verbose=False)\n"
     ]
    },
    {
     "name": "stdout",
     "output_type": "stream",
     "text": [
      "Not setting metadata\n",
      "50 matching events found\n",
      "Setting baseline interval to [-0.2, 0.0] s\n",
      "Applying baseline correction (mode: mean)\n",
      "0 projection items activated\n",
      "Using data from preloaded Raw for 50 events and 32801 original time points ...\n",
      "2 bad epochs dropped\n",
      "Shape for subject 14 and session 07 is (8, 32801)\n"
     ]
    },
    {
     "name": "stderr",
     "output_type": "stream",
     "text": [
      "/var/folders/zb/vnlk96b52x18jnx35vjsd4f40000gp/T/ipykernel_44282/108631686.py:36: RuntimeWarning: Limited 1 annotation(s) that were expanding outside the data range.\n",
      "  raw = read_raw_bids(bids_path, verbose=False)\n"
     ]
    },
    {
     "name": "stdout",
     "output_type": "stream",
     "text": [
      "Not setting metadata\n",
      "50 matching events found\n",
      "Setting baseline interval to [-0.199951171875, 0.0] s\n",
      "Applying baseline correction (mode: mean)\n",
      "0 projection items activated\n",
      "Using data from preloaded Raw for 50 events and 33588 original time points ...\n",
      "2 bad epochs dropped\n",
      "Shape for subject 15 and session 02 is (8, 33588)\n"
     ]
    },
    {
     "name": "stderr",
     "output_type": "stream",
     "text": [
      "/var/folders/zb/vnlk96b52x18jnx35vjsd4f40000gp/T/ipykernel_44282/108631686.py:36: RuntimeWarning: Limited 1 annotation(s) that were expanding outside the data range.\n",
      "  raw = read_raw_bids(bids_path, verbose=False)\n"
     ]
    },
    {
     "name": "stdout",
     "output_type": "stream",
     "text": [
      "Not setting metadata\n",
      "50 matching events found\n",
      "Setting baseline interval to [-0.199951171875, 0.0] s\n",
      "Applying baseline correction (mode: mean)\n",
      "0 projection items activated\n",
      "Using data from preloaded Raw for 50 events and 33588 original time points ...\n",
      "2 bad epochs dropped\n",
      "Shape for subject 15 and session 04 is (8, 33588)\n"
     ]
    },
    {
     "name": "stderr",
     "output_type": "stream",
     "text": [
      "/var/folders/zb/vnlk96b52x18jnx35vjsd4f40000gp/T/ipykernel_44282/108631686.py:36: RuntimeWarning: Limited 1 annotation(s) that were expanding outside the data range.\n",
      "  raw = read_raw_bids(bids_path, verbose=False)\n"
     ]
    },
    {
     "name": "stdout",
     "output_type": "stream",
     "text": [
      "Not setting metadata\n",
      "50 matching events found\n",
      "Setting baseline interval to [-0.199951171875, 0.0] s\n",
      "Applying baseline correction (mode: mean)\n",
      "0 projection items activated\n",
      "Using data from preloaded Raw for 50 events and 33588 original time points ...\n",
      "2 bad epochs dropped\n",
      "Shape for subject 15 and session 03 is (8, 33588)\n"
     ]
    },
    {
     "name": "stderr",
     "output_type": "stream",
     "text": [
      "/var/folders/zb/vnlk96b52x18jnx35vjsd4f40000gp/T/ipykernel_44282/108631686.py:36: RuntimeWarning: Limited 1 annotation(s) that were expanding outside the data range.\n",
      "  raw = read_raw_bids(bids_path, verbose=False)\n"
     ]
    },
    {
     "name": "stdout",
     "output_type": "stream",
     "text": [
      "Not setting metadata\n",
      "50 matching events found\n",
      "Setting baseline interval to [-0.199951171875, 0.0] s\n",
      "Applying baseline correction (mode: mean)\n",
      "0 projection items activated\n",
      "Using data from preloaded Raw for 50 events and 33588 original time points ...\n",
      "2 bad epochs dropped\n",
      "Shape for subject 15 and session 01 is (8, 33588)\n"
     ]
    },
    {
     "name": "stderr",
     "output_type": "stream",
     "text": [
      "/var/folders/zb/vnlk96b52x18jnx35vjsd4f40000gp/T/ipykernel_44282/108631686.py:36: RuntimeWarning: Limited 1 annotation(s) that were expanding outside the data range.\n",
      "  raw = read_raw_bids(bids_path, verbose=False)\n"
     ]
    },
    {
     "name": "stdout",
     "output_type": "stream",
     "text": [
      "Not setting metadata\n",
      "50 matching events found\n",
      "Setting baseline interval to [-0.2, 0.0] s\n",
      "Applying baseline correction (mode: mean)\n",
      "0 projection items activated\n",
      "Using data from preloaded Raw for 50 events and 32801 original time points ...\n",
      "2 bad epochs dropped\n",
      "Shape for subject 12 and session 02 is (8, 32801)\n"
     ]
    },
    {
     "name": "stderr",
     "output_type": "stream",
     "text": [
      "/var/folders/zb/vnlk96b52x18jnx35vjsd4f40000gp/T/ipykernel_44282/108631686.py:36: RuntimeWarning: Limited 1 annotation(s) that were expanding outside the data range.\n",
      "  raw = read_raw_bids(bids_path, verbose=False)\n"
     ]
    },
    {
     "name": "stdout",
     "output_type": "stream",
     "text": [
      "Not setting metadata\n",
      "50 matching events found\n",
      "Setting baseline interval to [-0.2, 0.0] s\n",
      "Applying baseline correction (mode: mean)\n",
      "0 projection items activated\n",
      "Using data from preloaded Raw for 50 events and 32801 original time points ...\n",
      "2 bad epochs dropped\n",
      "Shape for subject 12 and session 05 is (8, 32801)\n"
     ]
    },
    {
     "name": "stderr",
     "output_type": "stream",
     "text": [
      "/var/folders/zb/vnlk96b52x18jnx35vjsd4f40000gp/T/ipykernel_44282/108631686.py:36: RuntimeWarning: Limited 1 annotation(s) that were expanding outside the data range.\n",
      "  raw = read_raw_bids(bids_path, verbose=False)\n"
     ]
    },
    {
     "name": "stdout",
     "output_type": "stream",
     "text": [
      "Not setting metadata\n",
      "50 matching events found\n",
      "Setting baseline interval to [-0.2, 0.0] s\n",
      "Applying baseline correction (mode: mean)\n",
      "0 projection items activated\n",
      "Using data from preloaded Raw for 50 events and 32801 original time points ...\n",
      "2 bad epochs dropped\n",
      "Shape for subject 12 and session 04 is (8, 32801)\n"
     ]
    },
    {
     "name": "stderr",
     "output_type": "stream",
     "text": [
      "/var/folders/zb/vnlk96b52x18jnx35vjsd4f40000gp/T/ipykernel_44282/108631686.py:36: RuntimeWarning: Limited 1 annotation(s) that were expanding outside the data range.\n",
      "  raw = read_raw_bids(bids_path, verbose=False)\n"
     ]
    },
    {
     "name": "stdout",
     "output_type": "stream",
     "text": [
      "Not setting metadata\n",
      "50 matching events found\n",
      "Setting baseline interval to [-0.2, 0.0] s\n",
      "Applying baseline correction (mode: mean)\n",
      "0 projection items activated\n",
      "Using data from preloaded Raw for 50 events and 32801 original time points ...\n",
      "2 bad epochs dropped\n",
      "Shape for subject 12 and session 03 is (8, 32801)\n"
     ]
    },
    {
     "name": "stderr",
     "output_type": "stream",
     "text": [
      "/var/folders/zb/vnlk96b52x18jnx35vjsd4f40000gp/T/ipykernel_44282/108631686.py:36: RuntimeWarning: Limited 1 annotation(s) that were expanding outside the data range.\n",
      "  raw = read_raw_bids(bids_path, verbose=False)\n"
     ]
    },
    {
     "name": "stdout",
     "output_type": "stream",
     "text": [
      "Not setting metadata\n",
      "50 matching events found\n",
      "Setting baseline interval to [-0.2, 0.0] s\n",
      "Applying baseline correction (mode: mean)\n",
      "0 projection items activated\n",
      "Using data from preloaded Raw for 50 events and 32801 original time points ...\n",
      "2 bad epochs dropped\n",
      "Shape for subject 12 and session 06 is (8, 32801)\n"
     ]
    },
    {
     "name": "stderr",
     "output_type": "stream",
     "text": [
      "/var/folders/zb/vnlk96b52x18jnx35vjsd4f40000gp/T/ipykernel_44282/108631686.py:36: RuntimeWarning: Limited 1 annotation(s) that were expanding outside the data range.\n",
      "  raw = read_raw_bids(bids_path, verbose=False)\n"
     ]
    },
    {
     "name": "stdout",
     "output_type": "stream",
     "text": [
      "Not setting metadata\n",
      "50 matching events found\n",
      "Setting baseline interval to [-0.2, 0.0] s\n",
      "Applying baseline correction (mode: mean)\n",
      "0 projection items activated\n",
      "Using data from preloaded Raw for 50 events and 32801 original time points ...\n",
      "2 bad epochs dropped\n",
      "Shape for subject 12 and session 01 is (8, 32801)\n",
      "Not setting metadata\n",
      "50 matching events found\n",
      "Setting baseline interval to [-0.2, 0.0] s\n",
      "Applying baseline correction (mode: mean)\n",
      "0 projection items activated\n",
      "Using data from preloaded Raw for 50 events and 1641 original time points ...\n",
      "2 bad epochs dropped\n",
      "Shape for subject 08 and session 02 is (8, 1641)\n",
      "Not setting metadata\n",
      "50 matching events found\n",
      "Setting baseline interval to [-0.2, 0.0] s\n",
      "Applying baseline correction (mode: mean)\n",
      "0 projection items activated\n",
      "Using data from preloaded Raw for 50 events and 1641 original time points ...\n",
      "2 bad epochs dropped\n",
      "Shape for subject 08 and session 04 is (8, 1641)\n",
      "Not setting metadata\n",
      "50 matching events found\n",
      "Setting baseline interval to [-0.2, 0.0] s\n",
      "Applying baseline correction (mode: mean)\n",
      "0 projection items activated\n",
      "Using data from preloaded Raw for 50 events and 1641 original time points ...\n",
      "2 bad epochs dropped\n",
      "Shape for subject 08 and session 03 is (8, 1641)\n"
     ]
    },
    {
     "name": "stderr",
     "output_type": "stream",
     "text": [
      "/var/folders/zb/vnlk96b52x18jnx35vjsd4f40000gp/T/ipykernel_44282/108631686.py:36: RuntimeWarning: Limited 1 annotation(s) that were expanding outside the data range.\n",
      "  raw = read_raw_bids(bids_path, verbose=False)\n",
      "/var/folders/zb/vnlk96b52x18jnx35vjsd4f40000gp/T/ipykernel_44282/108631686.py:36: RuntimeWarning: Limited 1 annotation(s) that were expanding outside the data range.\n",
      "  raw = read_raw_bids(bids_path, verbose=False)\n",
      "/var/folders/zb/vnlk96b52x18jnx35vjsd4f40000gp/T/ipykernel_44282/108631686.py:36: RuntimeWarning: Limited 1 annotation(s) that were expanding outside the data range.\n",
      "  raw = read_raw_bids(bids_path, verbose=False)\n",
      "/var/folders/zb/vnlk96b52x18jnx35vjsd4f40000gp/T/ipykernel_44282/108631686.py:36: RuntimeWarning: Limited 1 annotation(s) that were expanding outside the data range.\n",
      "  raw = read_raw_bids(bids_path, verbose=False)\n"
     ]
    },
    {
     "name": "stdout",
     "output_type": "stream",
     "text": [
      "Not setting metadata\n",
      "50 matching events found\n",
      "Setting baseline interval to [-0.2, 0.0] s\n",
      "Applying baseline correction (mode: mean)\n",
      "0 projection items activated\n",
      "Using data from preloaded Raw for 50 events and 1641 original time points ...\n",
      "2 bad epochs dropped\n",
      "Shape for subject 08 and session 01 is (8, 1641)\n",
      "Not setting metadata\n",
      "50 matching events found\n",
      "Setting baseline interval to [-0.2, 0.0] s\n",
      "Applying baseline correction (mode: mean)\n",
      "0 projection items activated\n",
      "Using data from preloaded Raw for 50 events and 1641 original time points ...\n",
      "2 bad epochs dropped\n",
      "Shape for subject 01 and session 02 is (8, 1641)\n",
      "Not setting metadata\n",
      "50 matching events found\n",
      "Setting baseline interval to [-0.2, 0.0] s\n",
      "Applying baseline correction (mode: mean)\n",
      "0 projection items activated\n",
      "Using data from preloaded Raw for 50 events and 1641 original time points ...\n",
      "2 bad epochs dropped\n",
      "Shape for subject 01 and session 04 is (8, 1641)\n",
      "Not setting metadata\n",
      "50 matching events found\n",
      "Setting baseline interval to [-0.2, 0.0] s\n",
      "Applying baseline correction (mode: mean)\n",
      "0 projection items activated\n",
      "Using data from preloaded Raw for 50 events and 1641 original time points ...\n",
      "2 bad epochs dropped\n",
      "Shape for subject 01 and session 03 is (8, 1641)\n",
      "Not setting metadata\n",
      "50 matching events found\n",
      "Setting baseline interval to [-0.2, 0.0] s\n",
      "Applying baseline correction (mode: mean)\n",
      "0 projection items activated\n",
      "Using data from preloaded Raw for 50 events and 1641 original time points ...\n"
     ]
    },
    {
     "name": "stderr",
     "output_type": "stream",
     "text": [
      "/var/folders/zb/vnlk96b52x18jnx35vjsd4f40000gp/T/ipykernel_44282/108631686.py:36: RuntimeWarning: Limited 1 annotation(s) that were expanding outside the data range.\n",
      "  raw = read_raw_bids(bids_path, verbose=False)\n",
      "/var/folders/zb/vnlk96b52x18jnx35vjsd4f40000gp/T/ipykernel_44282/108631686.py:36: RuntimeWarning: Limited 1 annotation(s) that were expanding outside the data range.\n",
      "  raw = read_raw_bids(bids_path, verbose=False)\n",
      "/var/folders/zb/vnlk96b52x18jnx35vjsd4f40000gp/T/ipykernel_44282/108631686.py:36: RuntimeWarning: Limited 1 annotation(s) that were expanding outside the data range.\n",
      "  raw = read_raw_bids(bids_path, verbose=False)\n",
      "/var/folders/zb/vnlk96b52x18jnx35vjsd4f40000gp/T/ipykernel_44282/108631686.py:36: RuntimeWarning: Limited 1 annotation(s) that were expanding outside the data range.\n",
      "  raw = read_raw_bids(bids_path, verbose=False)\n"
     ]
    },
    {
     "name": "stdout",
     "output_type": "stream",
     "text": [
      "2 bad epochs dropped\n",
      "Shape for subject 01 and session 01 is (8, 1641)\n",
      "Not setting metadata\n",
      "50 matching events found\n",
      "Setting baseline interval to [-0.2, 0.0] s\n",
      "Applying baseline correction (mode: mean)\n",
      "0 projection items activated\n",
      "Using data from preloaded Raw for 50 events and 1641 original time points ...\n",
      "2 bad epochs dropped\n",
      "Shape for subject 06 and session 02 is (8, 1641)\n",
      "Not setting metadata\n",
      "50 matching events found\n",
      "Setting baseline interval to [-0.2, 0.0] s\n",
      "Applying baseline correction (mode: mean)\n",
      "0 projection items activated\n",
      "Using data from preloaded Raw for 50 events and 1641 original time points ...\n",
      "2 bad epochs dropped\n",
      "Shape for subject 06 and session 05 is (8, 1641)\n",
      "Not setting metadata\n",
      "50 matching events found\n",
      "Setting baseline interval to [-0.2, 0.0] s\n",
      "Applying baseline correction (mode: mean)\n",
      "0 projection items activated\n",
      "Using data from preloaded Raw for 50 events and 1641 original time points ...\n",
      "2 bad epochs dropped\n",
      "Shape for subject 06 and session 04 is (8, 1641)\n",
      "Not setting metadata\n",
      "49 matching events found\n",
      "Setting baseline interval to [-0.2, 0.0] s\n",
      "Applying baseline correction (mode: mean)\n",
      "0 projection items activated\n",
      "Using data from preloaded Raw for 49 events and 1641 original time points ...\n",
      "2 bad epochs dropped\n",
      "Shape for subject 06 and session 03 is (8, 1641)\n",
      "Not setting metadata\n",
      "50 matching events found\n",
      "Setting baseline interval to [-0.2, 0.0] s\n",
      "Applying baseline correction (mode: mean)\n",
      "0 projection items activated\n",
      "Using data from preloaded Raw for 50 events and 1641 original time points ...\n",
      "2 bad epochs dropped\n",
      "Shape for subject 06 and session 06 is (8, 1641)\n"
     ]
    },
    {
     "name": "stderr",
     "output_type": "stream",
     "text": [
      "/var/folders/zb/vnlk96b52x18jnx35vjsd4f40000gp/T/ipykernel_44282/108631686.py:36: RuntimeWarning: Limited 1 annotation(s) that were expanding outside the data range.\n",
      "  raw = read_raw_bids(bids_path, verbose=False)\n",
      "/var/folders/zb/vnlk96b52x18jnx35vjsd4f40000gp/T/ipykernel_44282/108631686.py:36: RuntimeWarning: Limited 1 annotation(s) that were expanding outside the data range.\n",
      "  raw = read_raw_bids(bids_path, verbose=False)\n",
      "/var/folders/zb/vnlk96b52x18jnx35vjsd4f40000gp/T/ipykernel_44282/108631686.py:36: RuntimeWarning: Limited 1 annotation(s) that were expanding outside the data range.\n",
      "  raw = read_raw_bids(bids_path, verbose=False)\n",
      "/var/folders/zb/vnlk96b52x18jnx35vjsd4f40000gp/T/ipykernel_44282/108631686.py:36: RuntimeWarning: Limited 1 annotation(s) that were expanding outside the data range.\n",
      "  raw = read_raw_bids(bids_path, verbose=False)\n",
      "/var/folders/zb/vnlk96b52x18jnx35vjsd4f40000gp/T/ipykernel_44282/108631686.py:36: RuntimeWarning: Limited 1 annotation(s) that were expanding outside the data range.\n",
      "  raw = read_raw_bids(bids_path, verbose=False)\n",
      "/var/folders/zb/vnlk96b52x18jnx35vjsd4f40000gp/T/ipykernel_44282/108631686.py:36: RuntimeWarning: Limited 1 annotation(s) that were expanding outside the data range.\n",
      "  raw = read_raw_bids(bids_path, verbose=False)\n"
     ]
    },
    {
     "name": "stdout",
     "output_type": "stream",
     "text": [
      "Not setting metadata\n",
      "50 matching events found\n",
      "Setting baseline interval to [-0.2, 0.0] s\n",
      "Applying baseline correction (mode: mean)\n",
      "0 projection items activated\n",
      "Using data from preloaded Raw for 50 events and 1641 original time points ...\n",
      "2 bad epochs dropped\n",
      "Shape for subject 06 and session 01 is (8, 1641)\n",
      "Not setting metadata\n",
      "50 matching events found\n",
      "Setting baseline interval to [-0.2, 0.0] s\n",
      "Applying baseline correction (mode: mean)\n",
      "0 projection items activated\n",
      "Using data from preloaded Raw for 50 events and 1641 original time points ...\n",
      "2 bad epochs dropped\n",
      "Shape for subject 06 and session 07 is (8, 1641)\n",
      "Not setting metadata\n",
      "48 matching events found\n",
      "Setting baseline interval to [-0.2, 0.0] s\n",
      "Applying baseline correction (mode: mean)\n",
      "0 projection items activated\n",
      "Using data from preloaded Raw for 48 events and 1641 original time points ...\n",
      "2 bad epochs dropped\n",
      "Shape for subject 07 and session 02 is (8, 1641)\n",
      "Not setting metadata\n",
      "50 matching events found\n",
      "Setting baseline interval to [-0.2, 0.0] s\n",
      "Applying baseline correction (mode: mean)\n",
      "0 projection items activated\n",
      "Using data from preloaded Raw for 50 events and 1641 original time points ...\n",
      "2 bad epochs dropped\n",
      "Shape for subject 07 and session 04 is (8, 1641)\n",
      "Not setting metadata\n",
      "50 matching events found\n",
      "Setting baseline interval to [-0.2, 0.0] s\n",
      "Applying baseline correction (mode: mean)\n",
      "0 projection items activated\n",
      "Using data from preloaded Raw for 50 events and 1641 original time points ...\n",
      "2 bad epochs dropped\n",
      "Shape for subject 07 and session 03 is (8, 1641)\n",
      "Not setting metadata\n",
      "49 matching events found\n",
      "Setting baseline interval to [-0.2, 0.0] s\n",
      "Applying baseline correction (mode: mean)\n",
      "0 projection items activated\n",
      "Using data from preloaded Raw for 49 events and 1641 original time points ...\n",
      "2 bad epochs dropped\n",
      "Shape for subject 07 and session 01 is (8, 1641)\n",
      "Not setting metadata\n",
      "49 matching events found\n",
      "Setting baseline interval to [-0.2, 0.0] s\n",
      "Applying baseline correction (mode: mean)\n",
      "0 projection items activated\n",
      "Using data from preloaded Raw for 49 events and 1641 original time points ...\n"
     ]
    },
    {
     "name": "stderr",
     "output_type": "stream",
     "text": [
      "/var/folders/zb/vnlk96b52x18jnx35vjsd4f40000gp/T/ipykernel_44282/108631686.py:36: RuntimeWarning: Limited 1 annotation(s) that were expanding outside the data range.\n",
      "  raw = read_raw_bids(bids_path, verbose=False)\n",
      "/var/folders/zb/vnlk96b52x18jnx35vjsd4f40000gp/T/ipykernel_44282/108631686.py:36: RuntimeWarning: Limited 1 annotation(s) that were expanding outside the data range.\n",
      "  raw = read_raw_bids(bids_path, verbose=False)\n",
      "/var/folders/zb/vnlk96b52x18jnx35vjsd4f40000gp/T/ipykernel_44282/108631686.py:36: RuntimeWarning: Limited 1 annotation(s) that were expanding outside the data range.\n",
      "  raw = read_raw_bids(bids_path, verbose=False)\n",
      "/var/folders/zb/vnlk96b52x18jnx35vjsd4f40000gp/T/ipykernel_44282/108631686.py:36: RuntimeWarning: Limited 1 annotation(s) that were expanding outside the data range.\n",
      "  raw = read_raw_bids(bids_path, verbose=False)\n",
      "/var/folders/zb/vnlk96b52x18jnx35vjsd4f40000gp/T/ipykernel_44282/108631686.py:36: RuntimeWarning: Limited 1 annotation(s) that were expanding outside the data range.\n",
      "  raw = read_raw_bids(bids_path, verbose=False)\n",
      "/var/folders/zb/vnlk96b52x18jnx35vjsd4f40000gp/T/ipykernel_44282/108631686.py:36: RuntimeWarning: Limited 1 annotation(s) that were expanding outside the data range.\n",
      "  raw = read_raw_bids(bids_path, verbose=False)\n"
     ]
    },
    {
     "name": "stdout",
     "output_type": "stream",
     "text": [
      "2 bad epochs dropped\n",
      "Shape for subject 09 and session 02 is (8, 1641)\n",
      "Not setting metadata\n",
      "48 matching events found\n",
      "Setting baseline interval to [-0.2, 0.0] s\n",
      "Applying baseline correction (mode: mean)\n",
      "0 projection items activated\n",
      "Using data from preloaded Raw for 48 events and 1641 original time points ...\n",
      "2 bad epochs dropped\n",
      "Shape for subject 09 and session 01 is (8, 1641)\n"
     ]
    },
    {
     "name": "stderr",
     "output_type": "stream",
     "text": [
      "/var/folders/zb/vnlk96b52x18jnx35vjsd4f40000gp/T/ipykernel_44282/108631686.py:36: RuntimeWarning: Limited 1 annotation(s) that were expanding outside the data range.\n",
      "  raw = read_raw_bids(bids_path, verbose=False)\n",
      "/var/folders/zb/vnlk96b52x18jnx35vjsd4f40000gp/T/ipykernel_44282/108631686.py:36: RuntimeWarning: Limited 1 annotation(s) that were expanding outside the data range.\n",
      "  raw = read_raw_bids(bids_path, verbose=False)\n"
     ]
    },
    {
     "name": "stdout",
     "output_type": "stream",
     "text": [
      "Not setting metadata\n",
      "43 matching events found\n",
      "Setting baseline interval to [-0.2, 0.0] s\n",
      "Applying baseline correction (mode: mean)\n",
      "0 projection items activated\n",
      "Using data from preloaded Raw for 43 events and 16401 original time points ...\n",
      "2 bad epochs dropped\n",
      "Shape for subject 10 and session 02 is (8, 16401)\n"
     ]
    },
    {
     "name": "stderr",
     "output_type": "stream",
     "text": [
      "/var/folders/zb/vnlk96b52x18jnx35vjsd4f40000gp/T/ipykernel_44282/108631686.py:36: RuntimeWarning: Limited 1 annotation(s) that were expanding outside the data range.\n",
      "  raw = read_raw_bids(bids_path, verbose=False)\n"
     ]
    },
    {
     "name": "stdout",
     "output_type": "stream",
     "text": [
      "Not setting metadata\n",
      "34 matching events found\n",
      "Setting baseline interval to [-0.2, 0.0] s\n",
      "Applying baseline correction (mode: mean)\n",
      "0 projection items activated\n",
      "Using data from preloaded Raw for 34 events and 16401 original time points ...\n",
      "2 bad epochs dropped\n",
      "Shape for subject 10 and session 01 is (8, 16401)\n"
     ]
    },
    {
     "name": "stderr",
     "output_type": "stream",
     "text": [
      "/var/folders/zb/vnlk96b52x18jnx35vjsd4f40000gp/T/ipykernel_44282/108631686.py:36: RuntimeWarning: Limited 1 annotation(s) that were expanding outside the data range.\n",
      "  raw = read_raw_bids(bids_path, verbose=False)\n"
     ]
    },
    {
     "name": "stdout",
     "output_type": "stream",
     "text": [
      "Not setting metadata\n",
      "50 matching events found\n",
      "Setting baseline interval to [-0.2, 0.0] s\n",
      "Applying baseline correction (mode: mean)\n",
      "0 projection items activated\n",
      "Using data from preloaded Raw for 50 events and 32801 original time points ...\n",
      "2 bad epochs dropped\n",
      "Shape for subject 11 and session 02 is (8, 32801)\n"
     ]
    },
    {
     "name": "stderr",
     "output_type": "stream",
     "text": [
      "/var/folders/zb/vnlk96b52x18jnx35vjsd4f40000gp/T/ipykernel_44282/108631686.py:36: RuntimeWarning: Limited 1 annotation(s) that were expanding outside the data range.\n",
      "  raw = read_raw_bids(bids_path, verbose=False)\n"
     ]
    },
    {
     "name": "stdout",
     "output_type": "stream",
     "text": [
      "Not setting metadata\n",
      "50 matching events found\n",
      "Setting baseline interval to [-0.2, 0.0] s\n",
      "Applying baseline correction (mode: mean)\n",
      "0 projection items activated\n",
      "Using data from preloaded Raw for 50 events and 32801 original time points ...\n",
      "2 bad epochs dropped\n",
      "Shape for subject 11 and session 05 is (8, 32801)\n"
     ]
    },
    {
     "name": "stderr",
     "output_type": "stream",
     "text": [
      "/var/folders/zb/vnlk96b52x18jnx35vjsd4f40000gp/T/ipykernel_44282/108631686.py:36: RuntimeWarning: Limited 1 annotation(s) that were expanding outside the data range.\n",
      "  raw = read_raw_bids(bids_path, verbose=False)\n"
     ]
    },
    {
     "name": "stdout",
     "output_type": "stream",
     "text": [
      "Not setting metadata\n",
      "50 matching events found\n",
      "Setting baseline interval to [-0.2, 0.0] s\n",
      "Applying baseline correction (mode: mean)\n",
      "0 projection items activated\n",
      "Using data from preloaded Raw for 50 events and 32801 original time points ...\n",
      "2 bad epochs dropped\n",
      "Shape for subject 11 and session 04 is (8, 32801)\n"
     ]
    },
    {
     "name": "stderr",
     "output_type": "stream",
     "text": [
      "/var/folders/zb/vnlk96b52x18jnx35vjsd4f40000gp/T/ipykernel_44282/108631686.py:36: RuntimeWarning: Limited 1 annotation(s) that were expanding outside the data range.\n",
      "  raw = read_raw_bids(bids_path, verbose=False)\n"
     ]
    },
    {
     "name": "stdout",
     "output_type": "stream",
     "text": [
      "Not setting metadata\n",
      "50 matching events found\n",
      "Setting baseline interval to [-0.2, 0.0] s\n",
      "Applying baseline correction (mode: mean)\n",
      "0 projection items activated\n",
      "Using data from preloaded Raw for 50 events and 32801 original time points ...\n",
      "2 bad epochs dropped\n",
      "Shape for subject 11 and session 03 is (8, 32801)\n"
     ]
    },
    {
     "name": "stderr",
     "output_type": "stream",
     "text": [
      "/var/folders/zb/vnlk96b52x18jnx35vjsd4f40000gp/T/ipykernel_44282/108631686.py:36: RuntimeWarning: Limited 1 annotation(s) that were expanding outside the data range.\n",
      "  raw = read_raw_bids(bids_path, verbose=False)\n"
     ]
    },
    {
     "name": "stdout",
     "output_type": "stream",
     "text": [
      "Not setting metadata\n",
      "50 matching events found\n",
      "Setting baseline interval to [-0.2, 0.0] s\n",
      "Applying baseline correction (mode: mean)\n",
      "0 projection items activated\n",
      "Using data from preloaded Raw for 50 events and 32801 original time points ...\n",
      "2 bad epochs dropped\n",
      "Shape for subject 11 and session 06 is (8, 32801)\n"
     ]
    },
    {
     "name": "stderr",
     "output_type": "stream",
     "text": [
      "/var/folders/zb/vnlk96b52x18jnx35vjsd4f40000gp/T/ipykernel_44282/108631686.py:36: RuntimeWarning: Limited 1 annotation(s) that were expanding outside the data range.\n",
      "  raw = read_raw_bids(bids_path, verbose=False)\n"
     ]
    },
    {
     "name": "stdout",
     "output_type": "stream",
     "text": [
      "Not setting metadata\n",
      "50 matching events found\n",
      "Setting baseline interval to [-0.2, 0.0] s\n",
      "Applying baseline correction (mode: mean)\n",
      "0 projection items activated\n",
      "Using data from preloaded Raw for 50 events and 32801 original time points ...\n",
      "2 bad epochs dropped\n",
      "Shape for subject 11 and session 01 is (8, 32801)\n",
      "Not setting metadata\n",
      "50 matching events found\n",
      "Setting baseline interval to [-0.2, 0.0] s\n",
      "Applying baseline correction (mode: mean)\n",
      "0 projection items activated\n",
      "Using data from preloaded Raw for 50 events and 1641 original time points ...\n",
      "2 bad epochs dropped\n",
      "Shape for subject 05 and session 02 is (8, 1641)\n",
      "Not setting metadata\n",
      "50 matching events found\n",
      "Setting baseline interval to [-0.2, 0.0] s\n",
      "Applying baseline correction (mode: mean)\n",
      "0 projection items activated\n",
      "Using data from preloaded Raw for 50 events and 1641 original time points ...\n",
      "2 bad epochs dropped\n",
      "Shape for subject 05 and session 03 is (8, 1641)\n",
      "Not setting metadata\n",
      "50 matching events found\n",
      "Setting baseline interval to [-0.2, 0.0] s\n",
      "Applying baseline correction (mode: mean)\n",
      "0 projection items activated\n",
      "Using data from preloaded Raw for 50 events and 1641 original time points ...\n",
      "2 bad epochs dropped\n",
      "Shape for subject 05 and session 01 is (8, 1641)\n",
      "Not setting metadata\n",
      "47 matching events found\n",
      "Setting baseline interval to [-0.2, 0.0] s\n",
      "Applying baseline correction (mode: mean)\n",
      "0 projection items activated\n",
      "Using data from preloaded Raw for 47 events and 1641 original time points ...\n",
      "2 bad epochs dropped\n",
      "Shape for subject 02 and session 02 is (8, 1641)\n"
     ]
    },
    {
     "name": "stderr",
     "output_type": "stream",
     "text": [
      "/var/folders/zb/vnlk96b52x18jnx35vjsd4f40000gp/T/ipykernel_44282/108631686.py:36: RuntimeWarning: Limited 1 annotation(s) that were expanding outside the data range.\n",
      "  raw = read_raw_bids(bids_path, verbose=False)\n",
      "/var/folders/zb/vnlk96b52x18jnx35vjsd4f40000gp/T/ipykernel_44282/108631686.py:36: RuntimeWarning: Limited 1 annotation(s) that were expanding outside the data range.\n",
      "  raw = read_raw_bids(bids_path, verbose=False)\n",
      "/var/folders/zb/vnlk96b52x18jnx35vjsd4f40000gp/T/ipykernel_44282/108631686.py:36: RuntimeWarning: Limited 1 annotation(s) that were expanding outside the data range.\n",
      "  raw = read_raw_bids(bids_path, verbose=False)\n",
      "/var/folders/zb/vnlk96b52x18jnx35vjsd4f40000gp/T/ipykernel_44282/108631686.py:36: RuntimeWarning: Limited 1 annotation(s) that were expanding outside the data range.\n",
      "  raw = read_raw_bids(bids_path, verbose=False)\n",
      "/var/folders/zb/vnlk96b52x18jnx35vjsd4f40000gp/T/ipykernel_44282/108631686.py:36: RuntimeWarning: Limited 1 annotation(s) that were expanding outside the data range.\n",
      "  raw = read_raw_bids(bids_path, verbose=False)\n"
     ]
    },
    {
     "name": "stdout",
     "output_type": "stream",
     "text": [
      "Not setting metadata\n",
      "46 matching events found\n",
      "Setting baseline interval to [-0.2, 0.0] s\n",
      "Applying baseline correction (mode: mean)\n",
      "0 projection items activated\n",
      "Using data from preloaded Raw for 46 events and 1641 original time points ...\n",
      "2 bad epochs dropped\n",
      "Shape for subject 02 and session 05 is (8, 1641)\n",
      "Not setting metadata\n",
      "48 matching events found\n",
      "Setting baseline interval to [-0.2, 0.0] s\n",
      "Applying baseline correction (mode: mean)\n",
      "0 projection items activated\n",
      "Using data from preloaded Raw for 48 events and 1641 original time points ...\n",
      "2 bad epochs dropped\n",
      "Shape for subject 02 and session 04 is (8, 1641)\n",
      "Not setting metadata\n",
      "50 matching events found\n",
      "Setting baseline interval to [-0.2, 0.0] s\n",
      "Applying baseline correction (mode: mean)\n",
      "0 projection items activated\n",
      "Using data from preloaded Raw for 50 events and 1641 original time points ...\n",
      "2 bad epochs dropped\n",
      "Shape for subject 02 and session 03 is (8, 1641)\n",
      "Not setting metadata\n",
      "50 matching events found\n",
      "Setting baseline interval to [-0.2, 0.0] s\n",
      "Applying baseline correction (mode: mean)\n",
      "0 projection items activated\n",
      "Using data from preloaded Raw for 50 events and 1641 original time points ...\n",
      "2 bad epochs dropped\n",
      "Shape for subject 02 and session 06 is (8, 1641)\n",
      "Not setting metadata\n",
      "49 matching events found\n",
      "Setting baseline interval to [-0.2, 0.0] s\n",
      "Applying baseline correction (mode: mean)\n",
      "0 projection items activated\n",
      "Using data from preloaded Raw for 49 events and 1641 original time points ...\n",
      "2 bad epochs dropped\n",
      "Shape for subject 02 and session 01 is (8, 1641)\n",
      "Not setting metadata\n",
      "49 matching events found\n",
      "Setting baseline interval to [-0.2, 0.0] s\n",
      "Applying baseline correction (mode: mean)\n",
      "0 projection items activated\n",
      "Using data from preloaded Raw for 49 events and 1641 original time points ...\n",
      "2 bad epochs dropped\n",
      "Shape for subject 02 and session 07 is (8, 1641)\n",
      "Not setting metadata\n",
      "50 matching events found\n",
      "Setting baseline interval to [-0.2, 0.0] s\n",
      "Applying baseline correction (mode: mean)\n",
      "0 projection items activated\n",
      "Using data from preloaded Raw for 50 events and 1641 original time points ...\n"
     ]
    },
    {
     "name": "stderr",
     "output_type": "stream",
     "text": [
      "/var/folders/zb/vnlk96b52x18jnx35vjsd4f40000gp/T/ipykernel_44282/108631686.py:36: RuntimeWarning: Limited 1 annotation(s) that were expanding outside the data range.\n",
      "  raw = read_raw_bids(bids_path, verbose=False)\n",
      "/var/folders/zb/vnlk96b52x18jnx35vjsd4f40000gp/T/ipykernel_44282/108631686.py:36: RuntimeWarning: Limited 1 annotation(s) that were expanding outside the data range.\n",
      "  raw = read_raw_bids(bids_path, verbose=False)\n",
      "/var/folders/zb/vnlk96b52x18jnx35vjsd4f40000gp/T/ipykernel_44282/108631686.py:36: RuntimeWarning: Limited 1 annotation(s) that were expanding outside the data range.\n",
      "  raw = read_raw_bids(bids_path, verbose=False)\n",
      "/var/folders/zb/vnlk96b52x18jnx35vjsd4f40000gp/T/ipykernel_44282/108631686.py:36: RuntimeWarning: Limited 1 annotation(s) that were expanding outside the data range.\n",
      "  raw = read_raw_bids(bids_path, verbose=False)\n",
      "/var/folders/zb/vnlk96b52x18jnx35vjsd4f40000gp/T/ipykernel_44282/108631686.py:36: RuntimeWarning: Limited 1 annotation(s) that were expanding outside the data range.\n",
      "  raw = read_raw_bids(bids_path, verbose=False)\n",
      "/var/folders/zb/vnlk96b52x18jnx35vjsd4f40000gp/T/ipykernel_44282/108631686.py:36: RuntimeWarning: Limited 1 annotation(s) that were expanding outside the data range.\n",
      "  raw = read_raw_bids(bids_path, verbose=False)\n"
     ]
    },
    {
     "name": "stdout",
     "output_type": "stream",
     "text": [
      "2 bad epochs dropped\n",
      "Shape for subject 03 and session 02 is (8, 1641)\n",
      "Not setting metadata\n",
      "50 matching events found\n",
      "Setting baseline interval to [-0.2, 0.0] s\n",
      "Applying baseline correction (mode: mean)\n",
      "0 projection items activated\n",
      "Using data from preloaded Raw for 50 events and 1641 original time points ...\n",
      "2 bad epochs dropped\n",
      "Shape for subject 03 and session 03 is (8, 1641)\n",
      "Not setting metadata\n",
      "47 matching events found\n",
      "Setting baseline interval to [-0.2, 0.0] s\n",
      "Applying baseline correction (mode: mean)\n",
      "0 projection items activated\n",
      "Using data from preloaded Raw for 47 events and 1641 original time points ...\n",
      "2 bad epochs dropped\n",
      "Shape for subject 03 and session 01 is (8, 1641)\n",
      "Not setting metadata\n",
      "50 matching events found\n",
      "Setting baseline interval to [-0.2, 0.0] s\n",
      "Applying baseline correction (mode: mean)\n",
      "0 projection items activated\n",
      "Using data from preloaded Raw for 50 events and 1641 original time points ...\n",
      "2 bad epochs dropped\n",
      "Shape for subject 04 and session 02 is (8, 1641)\n",
      "Not setting metadata\n",
      "49 matching events found\n",
      "Setting baseline interval to [-0.2, 0.0] s\n",
      "Applying baseline correction (mode: mean)\n",
      "0 projection items activated\n",
      "Using data from preloaded Raw for 49 events and 1641 original time points ...\n",
      "2 bad epochs dropped\n",
      "Shape for subject 04 and session 01 is (8, 1641)\n",
      "Total number of samples: 3217\n"
     ]
    },
    {
     "name": "stderr",
     "output_type": "stream",
     "text": [
      "/var/folders/zb/vnlk96b52x18jnx35vjsd4f40000gp/T/ipykernel_44282/108631686.py:36: RuntimeWarning: Limited 1 annotation(s) that were expanding outside the data range.\n",
      "  raw = read_raw_bids(bids_path, verbose=False)\n",
      "/var/folders/zb/vnlk96b52x18jnx35vjsd4f40000gp/T/ipykernel_44282/108631686.py:36: RuntimeWarning: Limited 1 annotation(s) that were expanding outside the data range.\n",
      "  raw = read_raw_bids(bids_path, verbose=False)\n",
      "/var/folders/zb/vnlk96b52x18jnx35vjsd4f40000gp/T/ipykernel_44282/108631686.py:36: RuntimeWarning: Limited 1 annotation(s) that were expanding outside the data range.\n",
      "  raw = read_raw_bids(bids_path, verbose=False)\n",
      "/var/folders/zb/vnlk96b52x18jnx35vjsd4f40000gp/T/ipykernel_44282/108631686.py:36: RuntimeWarning: Limited 1 annotation(s) that were expanding outside the data range.\n",
      "  raw = read_raw_bids(bids_path, verbose=False)\n"
     ]
    }
   ],
   "source": [
    "from torch.nn.utils.rnn import pad_sequence\n",
    "\n",
    "# Initialize the custom dataset\n",
    "bids_root = 'data'\n",
    "patients_tsv = 'data/participants.tsv'\n",
    "dataset = BIDSEEGDataset(bids_root, patients_tsv)\n",
    "\n",
    "# dataset stats\n",
    "print(f'Total number of samples: {len(dataset)}')\n",
    "\n",
    "# print number of different pathology labels\n"
   ]
  },
  {
   "cell_type": "code",
   "execution_count": 43,
   "metadata": {},
   "outputs": [
    {
     "name": "stdout",
     "output_type": "stream",
     "text": [
      "Shapes of the samples: {torch.Size([8, 33588]): 480, torch.Size([8, 32801]): 958, torch.Size([8, 1641]): 1706, torch.Size([8, 16401]): 73}\n"
     ]
    }
   ],
   "source": [
    "# get the distribution of the shape of the samples\n",
    "shapes = {}\n",
    "for sample, _ in dataset:\n",
    "    shape = sample.shape\n",
    "    if shape in shapes:\n",
    "        shapes[shape] += 1\n",
    "    else:\n",
    "        shapes[shape] = 1\n",
    "\n",
    "print(f'Shapes of the samples: {shapes}')"
   ]
  },
  {
   "cell_type": "code",
   "execution_count": 73,
   "metadata": {},
   "outputs": [],
   "source": [
    "# Create a DataLoader\n",
    "\n",
    "def custom_collate(batch):\n",
    "    data, labels = zip(*batch)\n",
    "    data = pad_sequence(data, batch_first=True)\n",
    "    labels = torch.tensor(labels)\n",
    "    return data, labels\n",
    "\n",
    "batch_size = 10  # You can adjust the batch size as needed\n",
    "dataloader = DataLoader(dataset, batch_size=batch_size, shuffle=True, collate_fn=custom_collate)"
   ]
  },
  {
   "cell_type": "code",
   "execution_count": 74,
   "metadata": {},
   "outputs": [
    {
     "ename": "RuntimeError",
     "evalue": "The size of tensor a (2801) must match the size of tensor b (141) at non-singleton dimension 1",
     "output_type": "error",
     "traceback": [
      "\u001b[0;31m---------------------------------------------------------------------------\u001b[0m",
      "\u001b[0;31mRuntimeError\u001b[0m                              Traceback (most recent call last)",
      "\u001b[1;32m/Users/user/Desktop/Uni/Medical Image/Assignment1/EEGNet/DataSplit.ipynb Cella 6\u001b[0m line \u001b[0;36m1\n\u001b[0;32m----> <a href='vscode-notebook-cell:/Users/user/Desktop/Uni/Medical%20Image/Assignment1/EEGNet/DataSplit.ipynb#W5sZmlsZQ%3D%3D?line=0'>1</a>\u001b[0m \u001b[39mfor\u001b[39;00m i, (batch_data, batch_labels) \u001b[39min\u001b[39;00m \u001b[39menumerate\u001b[39m(dataloader):\n\u001b[1;32m      <a href='vscode-notebook-cell:/Users/user/Desktop/Uni/Medical%20Image/Assignment1/EEGNet/DataSplit.ipynb#W5sZmlsZQ%3D%3D?line=1'>2</a>\u001b[0m     \u001b[39mprint\u001b[39m(\u001b[39mf\u001b[39m\u001b[39m\"\u001b[39m\u001b[39mBatch \u001b[39m\u001b[39m{\u001b[39;00mi\u001b[39m+\u001b[39m\u001b[39m1\u001b[39m\u001b[39m}\u001b[39;00m\u001b[39m:\u001b[39m\u001b[39m\"\u001b[39m)\n\u001b[1;32m      <a href='vscode-notebook-cell:/Users/user/Desktop/Uni/Medical%20Image/Assignment1/EEGNet/DataSplit.ipynb#W5sZmlsZQ%3D%3D?line=2'>3</a>\u001b[0m     \u001b[39mprint\u001b[39m(batch_data\u001b[39m.\u001b[39mshape, batch_labels)\n",
      "File \u001b[0;32m~/Library/Python/3.9/lib/python/site-packages/torch/utils/data/dataloader.py:633\u001b[0m, in \u001b[0;36m_BaseDataLoaderIter.__next__\u001b[0;34m(self)\u001b[0m\n\u001b[1;32m    630\u001b[0m \u001b[39mif\u001b[39;00m \u001b[39mself\u001b[39m\u001b[39m.\u001b[39m_sampler_iter \u001b[39mis\u001b[39;00m \u001b[39mNone\u001b[39;00m:\n\u001b[1;32m    631\u001b[0m     \u001b[39m# TODO(https://github.com/pytorch/pytorch/issues/76750)\u001b[39;00m\n\u001b[1;32m    632\u001b[0m     \u001b[39mself\u001b[39m\u001b[39m.\u001b[39m_reset()  \u001b[39m# type: ignore[call-arg]\u001b[39;00m\n\u001b[0;32m--> 633\u001b[0m data \u001b[39m=\u001b[39m \u001b[39mself\u001b[39;49m\u001b[39m.\u001b[39;49m_next_data()\n\u001b[1;32m    634\u001b[0m \u001b[39mself\u001b[39m\u001b[39m.\u001b[39m_num_yielded \u001b[39m+\u001b[39m\u001b[39m=\u001b[39m \u001b[39m1\u001b[39m\n\u001b[1;32m    635\u001b[0m \u001b[39mif\u001b[39;00m \u001b[39mself\u001b[39m\u001b[39m.\u001b[39m_dataset_kind \u001b[39m==\u001b[39m _DatasetKind\u001b[39m.\u001b[39mIterable \u001b[39mand\u001b[39;00m \\\n\u001b[1;32m    636\u001b[0m         \u001b[39mself\u001b[39m\u001b[39m.\u001b[39m_IterableDataset_len_called \u001b[39mis\u001b[39;00m \u001b[39mnot\u001b[39;00m \u001b[39mNone\u001b[39;00m \u001b[39mand\u001b[39;00m \\\n\u001b[1;32m    637\u001b[0m         \u001b[39mself\u001b[39m\u001b[39m.\u001b[39m_num_yielded \u001b[39m>\u001b[39m \u001b[39mself\u001b[39m\u001b[39m.\u001b[39m_IterableDataset_len_called:\n",
      "File \u001b[0;32m~/Library/Python/3.9/lib/python/site-packages/torch/utils/data/dataloader.py:677\u001b[0m, in \u001b[0;36m_SingleProcessDataLoaderIter._next_data\u001b[0;34m(self)\u001b[0m\n\u001b[1;32m    675\u001b[0m \u001b[39mdef\u001b[39;00m \u001b[39m_next_data\u001b[39m(\u001b[39mself\u001b[39m):\n\u001b[1;32m    676\u001b[0m     index \u001b[39m=\u001b[39m \u001b[39mself\u001b[39m\u001b[39m.\u001b[39m_next_index()  \u001b[39m# may raise StopIteration\u001b[39;00m\n\u001b[0;32m--> 677\u001b[0m     data \u001b[39m=\u001b[39m \u001b[39mself\u001b[39;49m\u001b[39m.\u001b[39;49m_dataset_fetcher\u001b[39m.\u001b[39;49mfetch(index)  \u001b[39m# may raise StopIteration\u001b[39;00m\n\u001b[1;32m    678\u001b[0m     \u001b[39mif\u001b[39;00m \u001b[39mself\u001b[39m\u001b[39m.\u001b[39m_pin_memory:\n\u001b[1;32m    679\u001b[0m         data \u001b[39m=\u001b[39m _utils\u001b[39m.\u001b[39mpin_memory\u001b[39m.\u001b[39mpin_memory(data, \u001b[39mself\u001b[39m\u001b[39m.\u001b[39m_pin_memory_device)\n",
      "File \u001b[0;32m~/Library/Python/3.9/lib/python/site-packages/torch/utils/data/_utils/fetch.py:54\u001b[0m, in \u001b[0;36m_MapDatasetFetcher.fetch\u001b[0;34m(self, possibly_batched_index)\u001b[0m\n\u001b[1;32m     52\u001b[0m \u001b[39melse\u001b[39;00m:\n\u001b[1;32m     53\u001b[0m     data \u001b[39m=\u001b[39m \u001b[39mself\u001b[39m\u001b[39m.\u001b[39mdataset[possibly_batched_index]\n\u001b[0;32m---> 54\u001b[0m \u001b[39mreturn\u001b[39;00m \u001b[39mself\u001b[39;49m\u001b[39m.\u001b[39;49mcollate_fn(data)\n",
      "\u001b[1;32m/Users/user/Desktop/Uni/Medical Image/Assignment1/EEGNet/DataSplit.ipynb Cella 6\u001b[0m line \u001b[0;36m5\n\u001b[1;32m      <a href='vscode-notebook-cell:/Users/user/Desktop/Uni/Medical%20Image/Assignment1/EEGNet/DataSplit.ipynb#W5sZmlsZQ%3D%3D?line=2'>3</a>\u001b[0m \u001b[39mdef\u001b[39;00m \u001b[39mcustom_collate\u001b[39m(batch):\n\u001b[1;32m      <a href='vscode-notebook-cell:/Users/user/Desktop/Uni/Medical%20Image/Assignment1/EEGNet/DataSplit.ipynb#W5sZmlsZQ%3D%3D?line=3'>4</a>\u001b[0m     data, labels \u001b[39m=\u001b[39m \u001b[39mzip\u001b[39m(\u001b[39m*\u001b[39mbatch)\n\u001b[0;32m----> <a href='vscode-notebook-cell:/Users/user/Desktop/Uni/Medical%20Image/Assignment1/EEGNet/DataSplit.ipynb#W5sZmlsZQ%3D%3D?line=4'>5</a>\u001b[0m     data \u001b[39m=\u001b[39m pad_sequence(data, batch_first\u001b[39m=\u001b[39;49m\u001b[39mTrue\u001b[39;49;00m)\n\u001b[1;32m      <a href='vscode-notebook-cell:/Users/user/Desktop/Uni/Medical%20Image/Assignment1/EEGNet/DataSplit.ipynb#W5sZmlsZQ%3D%3D?line=5'>6</a>\u001b[0m     labels \u001b[39m=\u001b[39m torch\u001b[39m.\u001b[39mtensor(labels)\n\u001b[1;32m      <a href='vscode-notebook-cell:/Users/user/Desktop/Uni/Medical%20Image/Assignment1/EEGNet/DataSplit.ipynb#W5sZmlsZQ%3D%3D?line=6'>7</a>\u001b[0m     \u001b[39mreturn\u001b[39;00m data, labels\n",
      "File \u001b[0;32m~/Library/Python/3.9/lib/python/site-packages/torch/nn/utils/rnn.py:399\u001b[0m, in \u001b[0;36mpad_sequence\u001b[0;34m(sequences, batch_first, padding_value)\u001b[0m\n\u001b[1;32m    395\u001b[0m         sequences \u001b[39m=\u001b[39m sequences\u001b[39m.\u001b[39munbind(\u001b[39m0\u001b[39m)\n\u001b[1;32m    397\u001b[0m \u001b[39m# assuming trailing dimensions and type of all the Tensors\u001b[39;00m\n\u001b[1;32m    398\u001b[0m \u001b[39m# in sequences are same and fetching those from sequences[0]\u001b[39;00m\n\u001b[0;32m--> 399\u001b[0m \u001b[39mreturn\u001b[39;00m torch\u001b[39m.\u001b[39;49m_C\u001b[39m.\u001b[39;49m_nn\u001b[39m.\u001b[39;49mpad_sequence(sequences, batch_first, padding_value)\n",
      "\u001b[0;31mRuntimeError\u001b[0m: The size of tensor a (2801) must match the size of tensor b (141) at non-singleton dimension 1"
     ]
    }
   ],
   "source": [
    "for i, (batch_data, batch_labels) in enumerate(dataloader):\n",
    "    print(f\"Batch {i+1}:\")\n",
    "    print(batch_data.shape, batch_labels)"
   ]
  },
  {
   "cell_type": "markdown",
   "metadata": {},
   "source": [
    "# Trasforming mne epochs into readable dataframes"
   ]
  },
  {
   "cell_type": "code",
   "execution_count": null,
   "metadata": {},
   "outputs": [],
   "source": []
  }
 ],
 "metadata": {
  "kernelspec": {
   "display_name": "Python 3",
   "language": "python",
   "name": "python3"
  },
  "language_info": {
   "codemirror_mode": {
    "name": "ipython",
    "version": 3
   },
   "file_extension": ".py",
   "mimetype": "text/x-python",
   "name": "python",
   "nbconvert_exporter": "python",
   "pygments_lexer": "ipython3",
   "version": "3.9.6"
  }
 },
 "nbformat": 4,
 "nbformat_minor": 2
}
