{
 "cells": [
  {
   "cell_type": "markdown",
   "metadata": {},
   "source": [
    "# Dividing the data into epochs with mne"
   ]
  },
  {
   "cell_type": "code",
   "execution_count": 5,
   "metadata": {},
   "outputs": [],
   "source": [
    "import os\n",
    "import mne\n",
    "import torch\n",
    "import pandas as pd\n",
    "from torch.utils.data import Dataset, DataLoader\n",
    "from mne_bids import read_raw_bids, BIDSPath\n",
    "\n",
    "class BIDSEEGDataset(Dataset):\n",
    "    def __init__(self, bids_root, patients_tsv):\n",
    "        self.bids_root = bids_root\n",
    "\n",
    "        # use only these channels for classification\n",
    "        self.selected_channels = ['F3','F4','C3','C4','O1','O2','A1','A2']\n",
    "\n",
    "        # read the patients.tsv file\n",
    "        self.patients_df = pd.read_csv(patients_tsv, delimiter='\\t')\n",
    "\n",
    "        # create a dictionary with patient_id as key and pathology as value\n",
    "        self.pathology_dict = dict(zip(self.patients_df['participant_id'], self.patients_df['pathology']))\n",
    "\n",
    "        # get all the subjects in the bids_root\n",
    "        self.subjects = [d for d in os.listdir(bids_root) if d.startswith('sub-')] # ['sub-03'] #\n",
    "        self.all_epochs = []\n",
    "        self.all_labels = []\n",
    "\n",
    "        for subject in self.subjects:\n",
    "            subject_id = subject.replace('sub-', '')\n",
    "            subject_folder = os.path.join(self.bids_root, subject)\n",
    "            sessions = [d for d in os.listdir(subject_folder) if d.startswith('ses-')]\n",
    "\n",
    "            for session in sessions:\n",
    "                session_id = session.replace('ses-', '')\n",
    "                bids_path = BIDSPath(subject=subject_id, session=session_id, task='verbalWM',\n",
    "                                              run='01', datatype='eeg', root=self.bids_root)\n",
    "                try:\n",
    "                    raw = read_raw_bids(bids_path, verbose=False)\n",
    "                except FileNotFoundError:\n",
    "                    continue\n",
    "                raw.load_data(verbose=False)\n",
    "                \n",
    "                raw.filter(l_freq=1, h_freq=None, verbose=False, fir_design='firwin', skip_by_annotation='edge')\n",
    "                raw.pick(picks=self.selected_channels, verbose=False)\n",
    "                raw.resample(sfreq=250)  # Resample to 250 Hz\n",
    "\n",
    "\n",
    "                events, _ = mne.events_from_annotations(raw, verbose=False)\n",
    "                epochs = mne.Epochs(raw, events, verbose=False, tmax=8)\n",
    "                pathology_label = self.pathology_dict.get(f'sub-{subject_id}', 'Unknown')\n",
    "                for epoch_data in epochs.get_data():\n",
    "                    self.all_epochs.append(epoch_data)\n",
    "                    self.all_labels.append(pathology_label)\n",
    "\n",
    "\n",
    "\n",
    "    def __len__(self):\n",
    "        return len(self.all_epochs)\n",
    "\n",
    "    def __getitem__(self, idx):\n",
    "        epoch_data = self.all_epochs[idx]\n",
    "        pathology_label = self.all_labels[idx]\n",
    "        return torch.tensor(epoch_data, dtype=torch.float32), pathology_label"
   ]
  },
  {
   "cell_type": "code",
   "execution_count": 6,
   "metadata": {},
   "outputs": [
    {
     "name": "stderr",
     "output_type": "stream",
     "text": [
      "/var/folders/zb/vnlk96b52x18jnx35vjsd4f40000gp/T/ipykernel_1842/2293408216.py:36: RuntimeWarning: Limited 1 annotation(s) that were expanding outside the data range.\n",
      "  raw = read_raw_bids(bids_path, verbose=False)\n"
     ]
    },
    {
     "name": "stdout",
     "output_type": "stream",
     "text": [
      "Using data from preloaded Raw for 50 events and 2051 original time points ...\n",
      "2 bad epochs dropped\n"
     ]
    },
    {
     "name": "stderr",
     "output_type": "stream",
     "text": [
      "/var/folders/zb/vnlk96b52x18jnx35vjsd4f40000gp/T/ipykernel_1842/2293408216.py:36: RuntimeWarning: Limited 1 annotation(s) that were expanding outside the data range.\n",
      "  raw = read_raw_bids(bids_path, verbose=False)\n"
     ]
    },
    {
     "name": "stdout",
     "output_type": "stream",
     "text": [
      "Using data from preloaded Raw for 50 events and 2051 original time points ...\n",
      "2 bad epochs dropped\n"
     ]
    },
    {
     "name": "stderr",
     "output_type": "stream",
     "text": [
      "/var/folders/zb/vnlk96b52x18jnx35vjsd4f40000gp/T/ipykernel_1842/2293408216.py:36: RuntimeWarning: Limited 1 annotation(s) that were expanding outside the data range.\n",
      "  raw = read_raw_bids(bids_path, verbose=False)\n"
     ]
    },
    {
     "name": "stdout",
     "output_type": "stream",
     "text": [
      "Using data from preloaded Raw for 50 events and 2051 original time points ...\n",
      "2 bad epochs dropped\n"
     ]
    },
    {
     "name": "stderr",
     "output_type": "stream",
     "text": [
      "/var/folders/zb/vnlk96b52x18jnx35vjsd4f40000gp/T/ipykernel_1842/2293408216.py:36: RuntimeWarning: Limited 1 annotation(s) that were expanding outside the data range.\n",
      "  raw = read_raw_bids(bids_path, verbose=False)\n"
     ]
    },
    {
     "name": "stdout",
     "output_type": "stream",
     "text": [
      "Using data from preloaded Raw for 50 events and 2051 original time points ...\n",
      "2 bad epochs dropped\n"
     ]
    },
    {
     "name": "stderr",
     "output_type": "stream",
     "text": [
      "/var/folders/zb/vnlk96b52x18jnx35vjsd4f40000gp/T/ipykernel_1842/2293408216.py:36: RuntimeWarning: Limited 1 annotation(s) that were expanding outside the data range.\n",
      "  raw = read_raw_bids(bids_path, verbose=False)\n"
     ]
    },
    {
     "name": "stdout",
     "output_type": "stream",
     "text": [
      "Using data from preloaded Raw for 50 events and 2051 original time points ...\n",
      "2 bad epochs dropped\n"
     ]
    },
    {
     "name": "stderr",
     "output_type": "stream",
     "text": [
      "/var/folders/zb/vnlk96b52x18jnx35vjsd4f40000gp/T/ipykernel_1842/2293408216.py:36: RuntimeWarning: Limited 1 annotation(s) that were expanding outside the data range.\n",
      "  raw = read_raw_bids(bids_path, verbose=False)\n"
     ]
    },
    {
     "name": "stdout",
     "output_type": "stream",
     "text": [
      "Using data from preloaded Raw for 50 events and 2051 original time points ...\n",
      "2 bad epochs dropped\n"
     ]
    },
    {
     "name": "stderr",
     "output_type": "stream",
     "text": [
      "/var/folders/zb/vnlk96b52x18jnx35vjsd4f40000gp/T/ipykernel_1842/2293408216.py:36: RuntimeWarning: Limited 1 annotation(s) that were expanding outside the data range.\n",
      "  raw = read_raw_bids(bids_path, verbose=False)\n"
     ]
    },
    {
     "name": "stdout",
     "output_type": "stream",
     "text": [
      "Using data from preloaded Raw for 50 events and 2051 original time points ...\n",
      "2 bad epochs dropped\n"
     ]
    },
    {
     "name": "stderr",
     "output_type": "stream",
     "text": [
      "/var/folders/zb/vnlk96b52x18jnx35vjsd4f40000gp/T/ipykernel_1842/2293408216.py:36: RuntimeWarning: Limited 1 annotation(s) that were expanding outside the data range.\n",
      "  raw = read_raw_bids(bids_path, verbose=False)\n"
     ]
    },
    {
     "name": "stdout",
     "output_type": "stream",
     "text": [
      "Using data from preloaded Raw for 48 events and 2051 original time points ...\n",
      "2 bad epochs dropped\n"
     ]
    },
    {
     "name": "stderr",
     "output_type": "stream",
     "text": [
      "/var/folders/zb/vnlk96b52x18jnx35vjsd4f40000gp/T/ipykernel_1842/2293408216.py:36: RuntimeWarning: Limited 1 annotation(s) that were expanding outside the data range.\n",
      "  raw = read_raw_bids(bids_path, verbose=False)\n"
     ]
    },
    {
     "name": "stdout",
     "output_type": "stream",
     "text": [
      "Using data from preloaded Raw for 50 events and 2051 original time points ...\n",
      "2 bad epochs dropped\n"
     ]
    },
    {
     "name": "stderr",
     "output_type": "stream",
     "text": [
      "/var/folders/zb/vnlk96b52x18jnx35vjsd4f40000gp/T/ipykernel_1842/2293408216.py:36: RuntimeWarning: Limited 1 annotation(s) that were expanding outside the data range.\n",
      "  raw = read_raw_bids(bids_path, verbose=False)\n"
     ]
    },
    {
     "name": "stdout",
     "output_type": "stream",
     "text": [
      "Using data from preloaded Raw for 50 events and 2051 original time points ...\n",
      "2 bad epochs dropped\n"
     ]
    },
    {
     "name": "stderr",
     "output_type": "stream",
     "text": [
      "/var/folders/zb/vnlk96b52x18jnx35vjsd4f40000gp/T/ipykernel_1842/2293408216.py:36: RuntimeWarning: Invalid date encountered (2023-09-13 14:23:60).\n",
      "  raw = read_raw_bids(bids_path, verbose=False)\n",
      "/var/folders/zb/vnlk96b52x18jnx35vjsd4f40000gp/T/ipykernel_1842/2293408216.py:36: RuntimeWarning: Limited 1 annotation(s) that were expanding outside the data range.\n",
      "  raw = read_raw_bids(bids_path, verbose=False)\n"
     ]
    },
    {
     "name": "stdout",
     "output_type": "stream",
     "text": [
      "Using data from preloaded Raw for 50 events and 2051 original time points ...\n",
      "2 bad epochs dropped\n"
     ]
    },
    {
     "name": "stderr",
     "output_type": "stream",
     "text": [
      "/var/folders/zb/vnlk96b52x18jnx35vjsd4f40000gp/T/ipykernel_1842/2293408216.py:36: RuntimeWarning: Limited 1 annotation(s) that were expanding outside the data range.\n",
      "  raw = read_raw_bids(bids_path, verbose=False)\n"
     ]
    },
    {
     "name": "stdout",
     "output_type": "stream",
     "text": [
      "Using data from preloaded Raw for 50 events and 2051 original time points ...\n",
      "2 bad epochs dropped\n"
     ]
    },
    {
     "name": "stderr",
     "output_type": "stream",
     "text": [
      "/var/folders/zb/vnlk96b52x18jnx35vjsd4f40000gp/T/ipykernel_1842/2293408216.py:36: RuntimeWarning: Limited 1 annotation(s) that were expanding outside the data range.\n",
      "  raw = read_raw_bids(bids_path, verbose=False)\n"
     ]
    },
    {
     "name": "stdout",
     "output_type": "stream",
     "text": [
      "Using data from preloaded Raw for 50 events and 2051 original time points ...\n",
      "2 bad epochs dropped\n"
     ]
    },
    {
     "name": "stderr",
     "output_type": "stream",
     "text": [
      "/var/folders/zb/vnlk96b52x18jnx35vjsd4f40000gp/T/ipykernel_1842/2293408216.py:36: RuntimeWarning: Limited 1 annotation(s) that were expanding outside the data range.\n",
      "  raw = read_raw_bids(bids_path, verbose=False)\n"
     ]
    },
    {
     "name": "stdout",
     "output_type": "stream",
     "text": [
      "Using data from preloaded Raw for 50 events and 2051 original time points ...\n",
      "2 bad epochs dropped\n"
     ]
    },
    {
     "name": "stderr",
     "output_type": "stream",
     "text": [
      "/var/folders/zb/vnlk96b52x18jnx35vjsd4f40000gp/T/ipykernel_1842/2293408216.py:36: RuntimeWarning: Limited 1 annotation(s) that were expanding outside the data range.\n",
      "  raw = read_raw_bids(bids_path, verbose=False)\n"
     ]
    },
    {
     "name": "stdout",
     "output_type": "stream",
     "text": [
      "Using data from preloaded Raw for 50 events and 2051 original time points ...\n",
      "2 bad epochs dropped\n"
     ]
    },
    {
     "name": "stderr",
     "output_type": "stream",
     "text": [
      "/var/folders/zb/vnlk96b52x18jnx35vjsd4f40000gp/T/ipykernel_1842/2293408216.py:36: RuntimeWarning: Limited 1 annotation(s) that were expanding outside the data range.\n",
      "  raw = read_raw_bids(bids_path, verbose=False)\n"
     ]
    },
    {
     "name": "stdout",
     "output_type": "stream",
     "text": [
      "Using data from preloaded Raw for 50 events and 2051 original time points ...\n",
      "2 bad epochs dropped\n"
     ]
    },
    {
     "name": "stderr",
     "output_type": "stream",
     "text": [
      "/var/folders/zb/vnlk96b52x18jnx35vjsd4f40000gp/T/ipykernel_1842/2293408216.py:36: RuntimeWarning: Limited 1 annotation(s) that were expanding outside the data range.\n",
      "  raw = read_raw_bids(bids_path, verbose=False)\n"
     ]
    },
    {
     "name": "stdout",
     "output_type": "stream",
     "text": [
      "Using data from preloaded Raw for 50 events and 2051 original time points ...\n",
      "2 bad epochs dropped\n"
     ]
    },
    {
     "name": "stderr",
     "output_type": "stream",
     "text": [
      "/var/folders/zb/vnlk96b52x18jnx35vjsd4f40000gp/T/ipykernel_1842/2293408216.py:36: RuntimeWarning: Limited 1 annotation(s) that were expanding outside the data range.\n",
      "  raw = read_raw_bids(bids_path, verbose=False)\n"
     ]
    },
    {
     "name": "stdout",
     "output_type": "stream",
     "text": [
      "Using data from preloaded Raw for 50 events and 2051 original time points ...\n",
      "2 bad epochs dropped\n"
     ]
    },
    {
     "name": "stderr",
     "output_type": "stream",
     "text": [
      "/var/folders/zb/vnlk96b52x18jnx35vjsd4f40000gp/T/ipykernel_1842/2293408216.py:36: RuntimeWarning: Limited 1 annotation(s) that were expanding outside the data range.\n",
      "  raw = read_raw_bids(bids_path, verbose=False)\n"
     ]
    },
    {
     "name": "stdout",
     "output_type": "stream",
     "text": [
      "Using data from preloaded Raw for 50 events and 2051 original time points ...\n",
      "2 bad epochs dropped\n"
     ]
    },
    {
     "name": "stderr",
     "output_type": "stream",
     "text": [
      "/var/folders/zb/vnlk96b52x18jnx35vjsd4f40000gp/T/ipykernel_1842/2293408216.py:36: RuntimeWarning: Limited 1 annotation(s) that were expanding outside the data range.\n",
      "  raw = read_raw_bids(bids_path, verbose=False)\n"
     ]
    },
    {
     "name": "stdout",
     "output_type": "stream",
     "text": [
      "Using data from preloaded Raw for 50 events and 2051 original time points ...\n",
      "2 bad epochs dropped\n"
     ]
    },
    {
     "name": "stderr",
     "output_type": "stream",
     "text": [
      "/var/folders/zb/vnlk96b52x18jnx35vjsd4f40000gp/T/ipykernel_1842/2293408216.py:36: RuntimeWarning: Limited 1 annotation(s) that were expanding outside the data range.\n",
      "  raw = read_raw_bids(bids_path, verbose=False)\n"
     ]
    },
    {
     "name": "stdout",
     "output_type": "stream",
     "text": [
      "Using data from preloaded Raw for 50 events and 2051 original time points ...\n",
      "2 bad epochs dropped\n"
     ]
    },
    {
     "name": "stderr",
     "output_type": "stream",
     "text": [
      "/var/folders/zb/vnlk96b52x18jnx35vjsd4f40000gp/T/ipykernel_1842/2293408216.py:36: RuntimeWarning: Limited 1 annotation(s) that were expanding outside the data range.\n",
      "  raw = read_raw_bids(bids_path, verbose=False)\n"
     ]
    },
    {
     "name": "stdout",
     "output_type": "stream",
     "text": [
      "Using data from preloaded Raw for 50 events and 2051 original time points ...\n",
      "2 bad epochs dropped\n"
     ]
    },
    {
     "name": "stderr",
     "output_type": "stream",
     "text": [
      "/var/folders/zb/vnlk96b52x18jnx35vjsd4f40000gp/T/ipykernel_1842/2293408216.py:36: RuntimeWarning: Limited 1 annotation(s) that were expanding outside the data range.\n",
      "  raw = read_raw_bids(bids_path, verbose=False)\n"
     ]
    },
    {
     "name": "stdout",
     "output_type": "stream",
     "text": [
      "Using data from preloaded Raw for 50 events and 2051 original time points ...\n",
      "2 bad epochs dropped\n"
     ]
    },
    {
     "name": "stderr",
     "output_type": "stream",
     "text": [
      "/var/folders/zb/vnlk96b52x18jnx35vjsd4f40000gp/T/ipykernel_1842/2293408216.py:36: RuntimeWarning: Limited 1 annotation(s) that were expanding outside the data range.\n",
      "  raw = read_raw_bids(bids_path, verbose=False)\n"
     ]
    },
    {
     "name": "stdout",
     "output_type": "stream",
     "text": [
      "Using data from preloaded Raw for 50 events and 2051 original time points ...\n",
      "2 bad epochs dropped\n",
      "Using data from preloaded Raw for 50 events and 2051 original time points ...\n",
      "2 bad epochs dropped\n",
      "Using data from preloaded Raw for 50 events and 2051 original time points ...\n",
      "2 bad epochs dropped\n"
     ]
    },
    {
     "name": "stderr",
     "output_type": "stream",
     "text": [
      "/var/folders/zb/vnlk96b52x18jnx35vjsd4f40000gp/T/ipykernel_1842/2293408216.py:36: RuntimeWarning: Limited 1 annotation(s) that were expanding outside the data range.\n",
      "  raw = read_raw_bids(bids_path, verbose=False)\n",
      "/var/folders/zb/vnlk96b52x18jnx35vjsd4f40000gp/T/ipykernel_1842/2293408216.py:36: RuntimeWarning: Limited 1 annotation(s) that were expanding outside the data range.\n",
      "  raw = read_raw_bids(bids_path, verbose=False)\n",
      "/var/folders/zb/vnlk96b52x18jnx35vjsd4f40000gp/T/ipykernel_1842/2293408216.py:36: RuntimeWarning: Limited 1 annotation(s) that were expanding outside the data range.\n",
      "  raw = read_raw_bids(bids_path, verbose=False)\n"
     ]
    },
    {
     "name": "stdout",
     "output_type": "stream",
     "text": [
      "Using data from preloaded Raw for 50 events and 2051 original time points ...\n",
      "2 bad epochs dropped\n",
      "Using data from preloaded Raw for 50 events and 2051 original time points ...\n",
      "2 bad epochs dropped\n",
      "Using data from preloaded Raw for 50 events and 2051 original time points ...\n",
      "2 bad epochs dropped\n",
      "Using data from preloaded Raw for 50 events and 2051 original time points ...\n",
      "2 bad epochs dropped\n"
     ]
    },
    {
     "name": "stderr",
     "output_type": "stream",
     "text": [
      "/var/folders/zb/vnlk96b52x18jnx35vjsd4f40000gp/T/ipykernel_1842/2293408216.py:36: RuntimeWarning: Limited 1 annotation(s) that were expanding outside the data range.\n",
      "  raw = read_raw_bids(bids_path, verbose=False)\n",
      "/var/folders/zb/vnlk96b52x18jnx35vjsd4f40000gp/T/ipykernel_1842/2293408216.py:36: RuntimeWarning: Limited 1 annotation(s) that were expanding outside the data range.\n",
      "  raw = read_raw_bids(bids_path, verbose=False)\n",
      "/var/folders/zb/vnlk96b52x18jnx35vjsd4f40000gp/T/ipykernel_1842/2293408216.py:36: RuntimeWarning: Limited 1 annotation(s) that were expanding outside the data range.\n",
      "  raw = read_raw_bids(bids_path, verbose=False)\n",
      "/var/folders/zb/vnlk96b52x18jnx35vjsd4f40000gp/T/ipykernel_1842/2293408216.py:36: RuntimeWarning: Limited 1 annotation(s) that were expanding outside the data range.\n",
      "  raw = read_raw_bids(bids_path, verbose=False)\n"
     ]
    },
    {
     "name": "stdout",
     "output_type": "stream",
     "text": [
      "Using data from preloaded Raw for 50 events and 2051 original time points ...\n",
      "2 bad epochs dropped\n",
      "Using data from preloaded Raw for 50 events and 2051 original time points ...\n",
      "2 bad epochs dropped\n",
      "Using data from preloaded Raw for 50 events and 2051 original time points ...\n",
      "2 bad epochs dropped\n",
      "Using data from preloaded Raw for 50 events and 2051 original time points ...\n",
      "2 bad epochs dropped\n",
      "Using data from preloaded Raw for 50 events and 2051 original time points ...\n",
      "2 bad epochs dropped\n"
     ]
    },
    {
     "name": "stderr",
     "output_type": "stream",
     "text": [
      "/var/folders/zb/vnlk96b52x18jnx35vjsd4f40000gp/T/ipykernel_1842/2293408216.py:36: RuntimeWarning: Limited 1 annotation(s) that were expanding outside the data range.\n",
      "  raw = read_raw_bids(bids_path, verbose=False)\n",
      "/var/folders/zb/vnlk96b52x18jnx35vjsd4f40000gp/T/ipykernel_1842/2293408216.py:36: RuntimeWarning: Limited 1 annotation(s) that were expanding outside the data range.\n",
      "  raw = read_raw_bids(bids_path, verbose=False)\n",
      "/var/folders/zb/vnlk96b52x18jnx35vjsd4f40000gp/T/ipykernel_1842/2293408216.py:36: RuntimeWarning: Limited 1 annotation(s) that were expanding outside the data range.\n",
      "  raw = read_raw_bids(bids_path, verbose=False)\n",
      "/var/folders/zb/vnlk96b52x18jnx35vjsd4f40000gp/T/ipykernel_1842/2293408216.py:36: RuntimeWarning: Limited 1 annotation(s) that were expanding outside the data range.\n",
      "  raw = read_raw_bids(bids_path, verbose=False)\n"
     ]
    },
    {
     "name": "stdout",
     "output_type": "stream",
     "text": [
      "Using data from preloaded Raw for 49 events and 2051 original time points ...\n",
      "2 bad epochs dropped\n",
      "Using data from preloaded Raw for 50 events and 2051 original time points ...\n",
      "2 bad epochs dropped\n",
      "Using data from preloaded Raw for 50 events and 2051 original time points ...\n",
      "2 bad epochs dropped\n",
      "Using data from preloaded Raw for 50 events and 2051 original time points ...\n",
      "2 bad epochs dropped\n"
     ]
    },
    {
     "name": "stderr",
     "output_type": "stream",
     "text": [
      "/var/folders/zb/vnlk96b52x18jnx35vjsd4f40000gp/T/ipykernel_1842/2293408216.py:36: RuntimeWarning: Limited 1 annotation(s) that were expanding outside the data range.\n",
      "  raw = read_raw_bids(bids_path, verbose=False)\n",
      "/var/folders/zb/vnlk96b52x18jnx35vjsd4f40000gp/T/ipykernel_1842/2293408216.py:36: RuntimeWarning: Limited 1 annotation(s) that were expanding outside the data range.\n",
      "  raw = read_raw_bids(bids_path, verbose=False)\n",
      "/var/folders/zb/vnlk96b52x18jnx35vjsd4f40000gp/T/ipykernel_1842/2293408216.py:36: RuntimeWarning: Limited 1 annotation(s) that were expanding outside the data range.\n",
      "  raw = read_raw_bids(bids_path, verbose=False)\n",
      "/var/folders/zb/vnlk96b52x18jnx35vjsd4f40000gp/T/ipykernel_1842/2293408216.py:36: RuntimeWarning: Limited 1 annotation(s) that were expanding outside the data range.\n",
      "  raw = read_raw_bids(bids_path, verbose=False)\n",
      "/var/folders/zb/vnlk96b52x18jnx35vjsd4f40000gp/T/ipykernel_1842/2293408216.py:36: RuntimeWarning: Limited 1 annotation(s) that were expanding outside the data range.\n",
      "  raw = read_raw_bids(bids_path, verbose=False)\n"
     ]
    },
    {
     "name": "stdout",
     "output_type": "stream",
     "text": [
      "Using data from preloaded Raw for 48 events and 2051 original time points ...\n",
      "2 bad epochs dropped\n",
      "Using data from preloaded Raw for 50 events and 2051 original time points ...\n",
      "2 bad epochs dropped\n",
      "Using data from preloaded Raw for 50 events and 2051 original time points ...\n",
      "2 bad epochs dropped\n",
      "Using data from preloaded Raw for 49 events and 2051 original time points ...\n",
      "2 bad epochs dropped\n",
      "Using data from preloaded Raw for 49 events and 2051 original time points ...\n",
      "2 bad epochs dropped\n"
     ]
    },
    {
     "name": "stderr",
     "output_type": "stream",
     "text": [
      "/var/folders/zb/vnlk96b52x18jnx35vjsd4f40000gp/T/ipykernel_1842/2293408216.py:36: RuntimeWarning: Limited 1 annotation(s) that were expanding outside the data range.\n",
      "  raw = read_raw_bids(bids_path, verbose=False)\n",
      "/var/folders/zb/vnlk96b52x18jnx35vjsd4f40000gp/T/ipykernel_1842/2293408216.py:36: RuntimeWarning: Limited 1 annotation(s) that were expanding outside the data range.\n",
      "  raw = read_raw_bids(bids_path, verbose=False)\n",
      "/var/folders/zb/vnlk96b52x18jnx35vjsd4f40000gp/T/ipykernel_1842/2293408216.py:36: RuntimeWarning: Limited 1 annotation(s) that were expanding outside the data range.\n",
      "  raw = read_raw_bids(bids_path, verbose=False)\n",
      "/var/folders/zb/vnlk96b52x18jnx35vjsd4f40000gp/T/ipykernel_1842/2293408216.py:36: RuntimeWarning: Limited 1 annotation(s) that were expanding outside the data range.\n",
      "  raw = read_raw_bids(bids_path, verbose=False)\n",
      "/var/folders/zb/vnlk96b52x18jnx35vjsd4f40000gp/T/ipykernel_1842/2293408216.py:36: RuntimeWarning: Limited 1 annotation(s) that were expanding outside the data range.\n",
      "  raw = read_raw_bids(bids_path, verbose=False)\n"
     ]
    },
    {
     "name": "stdout",
     "output_type": "stream",
     "text": [
      "Using data from preloaded Raw for 48 events and 2051 original time points ...\n",
      "2 bad epochs dropped\n"
     ]
    },
    {
     "name": "stderr",
     "output_type": "stream",
     "text": [
      "/var/folders/zb/vnlk96b52x18jnx35vjsd4f40000gp/T/ipykernel_1842/2293408216.py:36: RuntimeWarning: Limited 1 annotation(s) that were expanding outside the data range.\n",
      "  raw = read_raw_bids(bids_path, verbose=False)\n"
     ]
    },
    {
     "name": "stdout",
     "output_type": "stream",
     "text": [
      "Using data from preloaded Raw for 43 events and 2051 original time points ...\n",
      "2 bad epochs dropped\n"
     ]
    },
    {
     "name": "stderr",
     "output_type": "stream",
     "text": [
      "/var/folders/zb/vnlk96b52x18jnx35vjsd4f40000gp/T/ipykernel_1842/2293408216.py:36: RuntimeWarning: Limited 1 annotation(s) that were expanding outside the data range.\n",
      "  raw = read_raw_bids(bids_path, verbose=False)\n"
     ]
    },
    {
     "name": "stdout",
     "output_type": "stream",
     "text": [
      "Using data from preloaded Raw for 34 events and 2051 original time points ...\n",
      "2 bad epochs dropped\n"
     ]
    },
    {
     "name": "stderr",
     "output_type": "stream",
     "text": [
      "/var/folders/zb/vnlk96b52x18jnx35vjsd4f40000gp/T/ipykernel_1842/2293408216.py:36: RuntimeWarning: Limited 1 annotation(s) that were expanding outside the data range.\n",
      "  raw = read_raw_bids(bids_path, verbose=False)\n"
     ]
    },
    {
     "name": "stdout",
     "output_type": "stream",
     "text": [
      "Using data from preloaded Raw for 50 events and 2051 original time points ...\n",
      "2 bad epochs dropped\n"
     ]
    },
    {
     "name": "stderr",
     "output_type": "stream",
     "text": [
      "/var/folders/zb/vnlk96b52x18jnx35vjsd4f40000gp/T/ipykernel_1842/2293408216.py:36: RuntimeWarning: Limited 1 annotation(s) that were expanding outside the data range.\n",
      "  raw = read_raw_bids(bids_path, verbose=False)\n"
     ]
    },
    {
     "name": "stdout",
     "output_type": "stream",
     "text": [
      "Using data from preloaded Raw for 50 events and 2051 original time points ...\n",
      "2 bad epochs dropped\n"
     ]
    },
    {
     "name": "stderr",
     "output_type": "stream",
     "text": [
      "/var/folders/zb/vnlk96b52x18jnx35vjsd4f40000gp/T/ipykernel_1842/2293408216.py:36: RuntimeWarning: Limited 1 annotation(s) that were expanding outside the data range.\n",
      "  raw = read_raw_bids(bids_path, verbose=False)\n"
     ]
    },
    {
     "name": "stdout",
     "output_type": "stream",
     "text": [
      "Using data from preloaded Raw for 50 events and 2051 original time points ...\n",
      "2 bad epochs dropped\n"
     ]
    },
    {
     "name": "stderr",
     "output_type": "stream",
     "text": [
      "/var/folders/zb/vnlk96b52x18jnx35vjsd4f40000gp/T/ipykernel_1842/2293408216.py:36: RuntimeWarning: Limited 1 annotation(s) that were expanding outside the data range.\n",
      "  raw = read_raw_bids(bids_path, verbose=False)\n"
     ]
    },
    {
     "name": "stdout",
     "output_type": "stream",
     "text": [
      "Using data from preloaded Raw for 50 events and 2051 original time points ...\n",
      "2 bad epochs dropped\n"
     ]
    },
    {
     "name": "stderr",
     "output_type": "stream",
     "text": [
      "/var/folders/zb/vnlk96b52x18jnx35vjsd4f40000gp/T/ipykernel_1842/2293408216.py:36: RuntimeWarning: Limited 1 annotation(s) that were expanding outside the data range.\n",
      "  raw = read_raw_bids(bids_path, verbose=False)\n"
     ]
    },
    {
     "name": "stdout",
     "output_type": "stream",
     "text": [
      "Using data from preloaded Raw for 50 events and 2051 original time points ...\n",
      "2 bad epochs dropped\n"
     ]
    },
    {
     "name": "stderr",
     "output_type": "stream",
     "text": [
      "/var/folders/zb/vnlk96b52x18jnx35vjsd4f40000gp/T/ipykernel_1842/2293408216.py:36: RuntimeWarning: Limited 1 annotation(s) that were expanding outside the data range.\n",
      "  raw = read_raw_bids(bids_path, verbose=False)\n"
     ]
    },
    {
     "name": "stdout",
     "output_type": "stream",
     "text": [
      "Using data from preloaded Raw for 50 events and 2051 original time points ...\n",
      "2 bad epochs dropped\n",
      "Using data from preloaded Raw for 50 events and 2051 original time points ...\n",
      "2 bad epochs dropped\n",
      "Using data from preloaded Raw for 50 events and 2051 original time points ...\n",
      "2 bad epochs dropped\n",
      "Using data from preloaded Raw for 50 events and 2051 original time points ...\n",
      "2 bad epochs dropped\n"
     ]
    },
    {
     "name": "stderr",
     "output_type": "stream",
     "text": [
      "/var/folders/zb/vnlk96b52x18jnx35vjsd4f40000gp/T/ipykernel_1842/2293408216.py:36: RuntimeWarning: Limited 1 annotation(s) that were expanding outside the data range.\n",
      "  raw = read_raw_bids(bids_path, verbose=False)\n",
      "/var/folders/zb/vnlk96b52x18jnx35vjsd4f40000gp/T/ipykernel_1842/2293408216.py:36: RuntimeWarning: Limited 1 annotation(s) that were expanding outside the data range.\n",
      "  raw = read_raw_bids(bids_path, verbose=False)\n",
      "/var/folders/zb/vnlk96b52x18jnx35vjsd4f40000gp/T/ipykernel_1842/2293408216.py:36: RuntimeWarning: Limited 1 annotation(s) that were expanding outside the data range.\n",
      "  raw = read_raw_bids(bids_path, verbose=False)\n",
      "/var/folders/zb/vnlk96b52x18jnx35vjsd4f40000gp/T/ipykernel_1842/2293408216.py:36: RuntimeWarning: Limited 1 annotation(s) that were expanding outside the data range.\n",
      "  raw = read_raw_bids(bids_path, verbose=False)\n"
     ]
    },
    {
     "name": "stdout",
     "output_type": "stream",
     "text": [
      "Using data from preloaded Raw for 47 events and 2051 original time points ...\n",
      "2 bad epochs dropped\n",
      "Using data from preloaded Raw for 46 events and 2051 original time points ...\n",
      "2 bad epochs dropped\n",
      "Using data from preloaded Raw for 48 events and 2051 original time points ...\n",
      "2 bad epochs dropped\n",
      "Using data from preloaded Raw for 50 events and 2051 original time points ...\n",
      "2 bad epochs dropped\n",
      "Using data from preloaded Raw for 50 events and 2051 original time points ...\n",
      "2 bad epochs dropped\n"
     ]
    },
    {
     "name": "stderr",
     "output_type": "stream",
     "text": [
      "/var/folders/zb/vnlk96b52x18jnx35vjsd4f40000gp/T/ipykernel_1842/2293408216.py:36: RuntimeWarning: Limited 1 annotation(s) that were expanding outside the data range.\n",
      "  raw = read_raw_bids(bids_path, verbose=False)\n",
      "/var/folders/zb/vnlk96b52x18jnx35vjsd4f40000gp/T/ipykernel_1842/2293408216.py:36: RuntimeWarning: Limited 1 annotation(s) that were expanding outside the data range.\n",
      "  raw = read_raw_bids(bids_path, verbose=False)\n",
      "/var/folders/zb/vnlk96b52x18jnx35vjsd4f40000gp/T/ipykernel_1842/2293408216.py:36: RuntimeWarning: Limited 1 annotation(s) that were expanding outside the data range.\n",
      "  raw = read_raw_bids(bids_path, verbose=False)\n",
      "/var/folders/zb/vnlk96b52x18jnx35vjsd4f40000gp/T/ipykernel_1842/2293408216.py:36: RuntimeWarning: Limited 1 annotation(s) that were expanding outside the data range.\n",
      "  raw = read_raw_bids(bids_path, verbose=False)\n",
      "/var/folders/zb/vnlk96b52x18jnx35vjsd4f40000gp/T/ipykernel_1842/2293408216.py:36: RuntimeWarning: Limited 1 annotation(s) that were expanding outside the data range.\n",
      "  raw = read_raw_bids(bids_path, verbose=False)\n"
     ]
    },
    {
     "name": "stdout",
     "output_type": "stream",
     "text": [
      "Using data from preloaded Raw for 49 events and 2051 original time points ...\n",
      "2 bad epochs dropped\n",
      "Using data from preloaded Raw for 49 events and 2051 original time points ...\n",
      "2 bad epochs dropped\n",
      "Using data from preloaded Raw for 50 events and 2051 original time points ...\n",
      "2 bad epochs dropped\n",
      "Using data from preloaded Raw for 50 events and 2051 original time points ...\n",
      "2 bad epochs dropped\n",
      "Using data from preloaded Raw for 47 events and 2051 original time points ...\n",
      "2 bad epochs dropped\n"
     ]
    },
    {
     "name": "stderr",
     "output_type": "stream",
     "text": [
      "/var/folders/zb/vnlk96b52x18jnx35vjsd4f40000gp/T/ipykernel_1842/2293408216.py:36: RuntimeWarning: Limited 1 annotation(s) that were expanding outside the data range.\n",
      "  raw = read_raw_bids(bids_path, verbose=False)\n",
      "/var/folders/zb/vnlk96b52x18jnx35vjsd4f40000gp/T/ipykernel_1842/2293408216.py:36: RuntimeWarning: Limited 1 annotation(s) that were expanding outside the data range.\n",
      "  raw = read_raw_bids(bids_path, verbose=False)\n",
      "/var/folders/zb/vnlk96b52x18jnx35vjsd4f40000gp/T/ipykernel_1842/2293408216.py:36: RuntimeWarning: Limited 1 annotation(s) that were expanding outside the data range.\n",
      "  raw = read_raw_bids(bids_path, verbose=False)\n",
      "/var/folders/zb/vnlk96b52x18jnx35vjsd4f40000gp/T/ipykernel_1842/2293408216.py:36: RuntimeWarning: Limited 1 annotation(s) that were expanding outside the data range.\n",
      "  raw = read_raw_bids(bids_path, verbose=False)\n",
      "/var/folders/zb/vnlk96b52x18jnx35vjsd4f40000gp/T/ipykernel_1842/2293408216.py:36: RuntimeWarning: Limited 1 annotation(s) that were expanding outside the data range.\n",
      "  raw = read_raw_bids(bids_path, verbose=False)\n"
     ]
    },
    {
     "name": "stdout",
     "output_type": "stream",
     "text": [
      "Using data from preloaded Raw for 50 events and 2051 original time points ...\n",
      "2 bad epochs dropped\n",
      "Using data from preloaded Raw for 49 events and 2051 original time points ...\n",
      "2 bad epochs dropped\n",
      "Total number of samples: 3217\n"
     ]
    },
    {
     "name": "stderr",
     "output_type": "stream",
     "text": [
      "/var/folders/zb/vnlk96b52x18jnx35vjsd4f40000gp/T/ipykernel_1842/2293408216.py:36: RuntimeWarning: Limited 1 annotation(s) that were expanding outside the data range.\n",
      "  raw = read_raw_bids(bids_path, verbose=False)\n"
     ]
    }
   ],
   "source": [
    "from torch.nn.utils.rnn import pad_sequence\n",
    "\n",
    "# Initialize the custom dataset\n",
    "bids_root = 'data'\n",
    "patients_tsv = 'data/participants.tsv'\n",
    "dataset = BIDSEEGDataset(bids_root, patients_tsv)\n",
    "\n",
    "# dataset stats\n",
    "print(f'Total number of samples: {len(dataset)}')\n",
    "\n",
    "# print number of different pathology labels\n"
   ]
  },
  {
   "cell_type": "code",
   "execution_count": 8,
   "metadata": {},
   "outputs": [
    {
     "name": "stdout",
     "output_type": "stream",
     "text": [
      "Distribution of the samples: {torch.Size([8, 2051]): 3217}\n"
     ]
    }
   ],
   "source": [
    "# get the distribution of the shape of the samples\n",
    "shapes = {}\n",
    "for sample, _ in dataset:\n",
    "    shape = sample.shape\n",
    "    if shape in shapes:\n",
    "        shapes[shape] += 1\n",
    "    else:\n",
    "        shapes[shape] = 1\n",
    "\n",
    "print(f'Distribution of the samples: {shapes}')"
   ]
  },
  {
   "cell_type": "code",
   "execution_count": 15,
   "metadata": {},
   "outputs": [],
   "source": [
    "# Create test, validation and train splits\n",
    "from sklearn.model_selection import train_test_split\n",
    "from torch.utils.data import Subset\n",
    "\n",
    "# Split the dataset into training and a temporary set (70% train, 30% temp)\n",
    "# we need this to not loose the `all_labels` list\n",
    "train_indices, temp_indices = train_test_split(\n",
    "    list(range(len(dataset))),\n",
    "    test_size=0.3,\n",
    "    random_state=42,\n",
    "    stratify=dataset.all_labels,\n",
    "    shuffle=True\n",
    ")\n",
    "\n",
    "# Split the temporary set into validation and test sets (50% validation, 50% test of the temp set)\n",
    "val_indices, test_indices = train_test_split(\n",
    "    temp_indices,\n",
    "    test_size=0.5,\n",
    "    random_state=42,\n",
    "    stratify=[dataset.all_labels[i] for i in temp_indices],\n",
    "    shuffle=True\n",
    ")\n",
    "\n",
    "# Create Subset instances using the split indices\n",
    "train_dataset = Subset(dataset, train_indices)\n",
    "val_dataset = Subset(dataset, val_indices)\n",
    "test_dataset = Subset(dataset, test_indices)\n"
   ]
  },
  {
   "cell_type": "code",
   "execution_count": 16,
   "metadata": {},
   "outputs": [],
   "source": [
    "batch_size = 32\n",
    "\n",
    "# Create data loaders\n",
    "train_loader = DataLoader(train_dataset, batch_size=batch_size, shuffle=True)\n",
    "val_loader = DataLoader(val_dataset, batch_size=batch_size, shuffle=False)\n",
    "test_loader = DataLoader(test_dataset, batch_size=batch_size, shuffle=False)"
   ]
  }
 ],
 "metadata": {
  "kernelspec": {
   "display_name": "Python 3",
   "language": "python",
   "name": "python3"
  },
  "language_info": {
   "codemirror_mode": {
    "name": "ipython",
    "version": 3
   },
   "file_extension": ".py",
   "mimetype": "text/x-python",
   "name": "python",
   "nbconvert_exporter": "python",
   "pygments_lexer": "ipython3",
   "version": "3.9.6"
  }
 },
 "nbformat": 4,
 "nbformat_minor": 2
}
