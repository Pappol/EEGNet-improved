{
 "cells": [
  {
   "cell_type": "markdown",
   "metadata": {},
   "source": [
    "# Dividing the data into epochs with mne"
   ]
  },
  {
   "cell_type": "code",
   "execution_count": 39,
   "metadata": {},
   "outputs": [],
   "source": [
    "import os\n",
    "import mne\n",
    "import torch\n",
    "import pandas as pd\n",
    "from torch.utils.data import Dataset, DataLoader\n",
    "from mne_bids import read_raw_bids, BIDSPath\n",
    "\n",
    "class BIDSEEGDataset(Dataset):\n",
    "    def __init__(self, bids_root, patients_tsv):\n",
    "        self.bids_root = bids_root\n",
    "\n",
    "        # use only these channels for classification\n",
    "        self.selected_channels = ['F3','F4','C3','C4','O1','O2','A1','A2']\n",
    "\n",
    "        # read the patients.tsv file\n",
    "        self.patients_df = pd.read_csv(patients_tsv, delimiter='\\t')\n",
    "\n",
    "        # create a dictionary with patient_id as key and pathology as value\n",
    "        self.pathology_dict = dict(zip(self.patients_df['participant_id'], self.patients_df['pathology']))\n",
    "\n",
    "        # get all the subjects in the bids_root\n",
    "        self.subjects = [d for d in os.listdir(bids_root) if d.startswith('sub-')] # ['sub-03'] #\n",
    "        self.all_epochs = []\n",
    "        self.all_labels = []\n",
    "\n",
    "        for subject in self.subjects:\n",
    "            subject_id = subject.replace('sub-', '')\n",
    "            subject_folder = os.path.join(self.bids_root, subject)\n",
    "            sessions = [d for d in os.listdir(subject_folder) if d.startswith('ses-')]\n",
    "\n",
    "            for session in sessions:\n",
    "                session_id = session.replace('ses-', '')\n",
    "                bids_path = BIDSPath(subject=subject_id, session=session_id, task='verbalWM',\n",
    "                                              run='01', datatype='eeg', root=self.bids_root)\n",
    "                try:\n",
    "                    raw = read_raw_bids(bids_path, verbose=False)\n",
    "                except FileNotFoundError:\n",
    "                    continue\n",
    "                raw.load_data(verbose=False)\n",
    "                \n",
    "                raw.filter(l_freq=1, h_freq=None, verbose=False, fir_design='firwin', skip_by_annotation='edge')\n",
    "                raw.pick(picks=self.selected_channels, verbose=False)\n",
    "                raw.resample(sfreq=250)  # Resample to 250 Hz\n",
    "\n",
    "\n",
    "                events, _ = mne.events_from_annotations(raw, verbose=False)\n",
    "                epochs = mne.Epochs(raw, events, verbose=False, tmax=8)\n",
    "                pathology_label = self.pathology_dict.get(f'sub-{subject_id}', 'Unknown')\n",
    "                for epoch_data in epochs.get_data():\n",
    "                    self.all_epochs.append(epoch_data)\n",
    "                    self.all_labels.append(pathology_label)\n",
    "\n",
    "        # save the labels in a dictionary to convert them to numbers\n",
    "        # and to easily use them in the dataloader\n",
    "        self.labels = {}\n",
    "        for i, pathology in enumerate(set(self.all_labels)):\n",
    "            self.labels[pathology] = i\n",
    "\n",
    "\n",
    "\n",
    "    def __len__(self):\n",
    "        return len(self.all_epochs)\n",
    "\n",
    "    def __getitem__(self, idx):\n",
    "        epoch_data = self.all_epochs[idx]\n",
    "        pathology_label = self.all_labels[idx]\n",
    "        return torch.tensor(epoch_data, dtype=torch.float32), torch.tensor(self.labels[pathology_label])"
   ]
  },
  {
   "cell_type": "code",
   "execution_count": 40,
   "metadata": {},
   "outputs": [
    {
     "name": "stderr",
     "output_type": "stream",
     "text": [
      "/var/folders/zb/vnlk96b52x18jnx35vjsd4f40000gp/T/ipykernel_1842/2084769139.py:36: RuntimeWarning: Limited 1 annotation(s) that were expanding outside the data range.\n",
      "  raw = read_raw_bids(bids_path, verbose=False)\n"
     ]
    },
    {
     "name": "stdout",
     "output_type": "stream",
     "text": [
      "Using data from preloaded Raw for 50 events and 2051 original time points ...\n",
      "2 bad epochs dropped\n"
     ]
    },
    {
     "name": "stderr",
     "output_type": "stream",
     "text": [
      "/var/folders/zb/vnlk96b52x18jnx35vjsd4f40000gp/T/ipykernel_1842/2084769139.py:36: RuntimeWarning: Limited 1 annotation(s) that were expanding outside the data range.\n",
      "  raw = read_raw_bids(bids_path, verbose=False)\n"
     ]
    },
    {
     "name": "stdout",
     "output_type": "stream",
     "text": [
      "Using data from preloaded Raw for 50 events and 2051 original time points ...\n",
      "2 bad epochs dropped\n"
     ]
    },
    {
     "name": "stderr",
     "output_type": "stream",
     "text": [
      "/var/folders/zb/vnlk96b52x18jnx35vjsd4f40000gp/T/ipykernel_1842/2084769139.py:36: RuntimeWarning: Limited 1 annotation(s) that were expanding outside the data range.\n",
      "  raw = read_raw_bids(bids_path, verbose=False)\n"
     ]
    },
    {
     "name": "stdout",
     "output_type": "stream",
     "text": [
      "Using data from preloaded Raw for 50 events and 2051 original time points ...\n",
      "2 bad epochs dropped\n"
     ]
    },
    {
     "name": "stderr",
     "output_type": "stream",
     "text": [
      "/var/folders/zb/vnlk96b52x18jnx35vjsd4f40000gp/T/ipykernel_1842/2084769139.py:36: RuntimeWarning: Limited 1 annotation(s) that were expanding outside the data range.\n",
      "  raw = read_raw_bids(bids_path, verbose=False)\n"
     ]
    },
    {
     "name": "stdout",
     "output_type": "stream",
     "text": [
      "Using data from preloaded Raw for 50 events and 2051 original time points ...\n",
      "2 bad epochs dropped\n"
     ]
    },
    {
     "name": "stderr",
     "output_type": "stream",
     "text": [
      "/var/folders/zb/vnlk96b52x18jnx35vjsd4f40000gp/T/ipykernel_1842/2084769139.py:36: RuntimeWarning: Limited 1 annotation(s) that were expanding outside the data range.\n",
      "  raw = read_raw_bids(bids_path, verbose=False)\n"
     ]
    },
    {
     "name": "stdout",
     "output_type": "stream",
     "text": [
      "Using data from preloaded Raw for 50 events and 2051 original time points ...\n",
      "2 bad epochs dropped\n"
     ]
    },
    {
     "name": "stderr",
     "output_type": "stream",
     "text": [
      "/var/folders/zb/vnlk96b52x18jnx35vjsd4f40000gp/T/ipykernel_1842/2084769139.py:36: RuntimeWarning: Limited 1 annotation(s) that were expanding outside the data range.\n",
      "  raw = read_raw_bids(bids_path, verbose=False)\n"
     ]
    },
    {
     "name": "stdout",
     "output_type": "stream",
     "text": [
      "Using data from preloaded Raw for 50 events and 2051 original time points ...\n",
      "2 bad epochs dropped\n"
     ]
    },
    {
     "name": "stderr",
     "output_type": "stream",
     "text": [
      "/var/folders/zb/vnlk96b52x18jnx35vjsd4f40000gp/T/ipykernel_1842/2084769139.py:36: RuntimeWarning: Limited 1 annotation(s) that were expanding outside the data range.\n",
      "  raw = read_raw_bids(bids_path, verbose=False)\n"
     ]
    },
    {
     "name": "stdout",
     "output_type": "stream",
     "text": [
      "Using data from preloaded Raw for 50 events and 2051 original time points ...\n",
      "2 bad epochs dropped\n"
     ]
    },
    {
     "name": "stderr",
     "output_type": "stream",
     "text": [
      "/var/folders/zb/vnlk96b52x18jnx35vjsd4f40000gp/T/ipykernel_1842/2084769139.py:36: RuntimeWarning: Limited 1 annotation(s) that were expanding outside the data range.\n",
      "  raw = read_raw_bids(bids_path, verbose=False)\n"
     ]
    },
    {
     "name": "stdout",
     "output_type": "stream",
     "text": [
      "Using data from preloaded Raw for 48 events and 2051 original time points ...\n",
      "2 bad epochs dropped\n"
     ]
    },
    {
     "name": "stderr",
     "output_type": "stream",
     "text": [
      "/var/folders/zb/vnlk96b52x18jnx35vjsd4f40000gp/T/ipykernel_1842/2084769139.py:36: RuntimeWarning: Limited 1 annotation(s) that were expanding outside the data range.\n",
      "  raw = read_raw_bids(bids_path, verbose=False)\n"
     ]
    },
    {
     "name": "stdout",
     "output_type": "stream",
     "text": [
      "Using data from preloaded Raw for 50 events and 2051 original time points ...\n",
      "2 bad epochs dropped\n"
     ]
    },
    {
     "name": "stderr",
     "output_type": "stream",
     "text": [
      "/var/folders/zb/vnlk96b52x18jnx35vjsd4f40000gp/T/ipykernel_1842/2084769139.py:36: RuntimeWarning: Limited 1 annotation(s) that were expanding outside the data range.\n",
      "  raw = read_raw_bids(bids_path, verbose=False)\n"
     ]
    },
    {
     "name": "stdout",
     "output_type": "stream",
     "text": [
      "Using data from preloaded Raw for 50 events and 2051 original time points ...\n",
      "2 bad epochs dropped\n"
     ]
    },
    {
     "name": "stderr",
     "output_type": "stream",
     "text": [
      "/var/folders/zb/vnlk96b52x18jnx35vjsd4f40000gp/T/ipykernel_1842/2084769139.py:36: RuntimeWarning: Invalid date encountered (2023-09-13 14:23:60).\n",
      "  raw = read_raw_bids(bids_path, verbose=False)\n",
      "/var/folders/zb/vnlk96b52x18jnx35vjsd4f40000gp/T/ipykernel_1842/2084769139.py:36: RuntimeWarning: Limited 1 annotation(s) that were expanding outside the data range.\n",
      "  raw = read_raw_bids(bids_path, verbose=False)\n"
     ]
    },
    {
     "name": "stdout",
     "output_type": "stream",
     "text": [
      "Using data from preloaded Raw for 50 events and 2051 original time points ...\n",
      "2 bad epochs dropped\n"
     ]
    },
    {
     "name": "stderr",
     "output_type": "stream",
     "text": [
      "/var/folders/zb/vnlk96b52x18jnx35vjsd4f40000gp/T/ipykernel_1842/2084769139.py:36: RuntimeWarning: Limited 1 annotation(s) that were expanding outside the data range.\n",
      "  raw = read_raw_bids(bids_path, verbose=False)\n"
     ]
    },
    {
     "name": "stdout",
     "output_type": "stream",
     "text": [
      "Using data from preloaded Raw for 50 events and 2051 original time points ...\n",
      "2 bad epochs dropped\n"
     ]
    },
    {
     "name": "stderr",
     "output_type": "stream",
     "text": [
      "/var/folders/zb/vnlk96b52x18jnx35vjsd4f40000gp/T/ipykernel_1842/2084769139.py:36: RuntimeWarning: Limited 1 annotation(s) that were expanding outside the data range.\n",
      "  raw = read_raw_bids(bids_path, verbose=False)\n"
     ]
    },
    {
     "name": "stdout",
     "output_type": "stream",
     "text": [
      "Using data from preloaded Raw for 50 events and 2051 original time points ...\n",
      "2 bad epochs dropped\n"
     ]
    },
    {
     "name": "stderr",
     "output_type": "stream",
     "text": [
      "/var/folders/zb/vnlk96b52x18jnx35vjsd4f40000gp/T/ipykernel_1842/2084769139.py:36: RuntimeWarning: Limited 1 annotation(s) that were expanding outside the data range.\n",
      "  raw = read_raw_bids(bids_path, verbose=False)\n"
     ]
    },
    {
     "name": "stdout",
     "output_type": "stream",
     "text": [
      "Using data from preloaded Raw for 50 events and 2051 original time points ...\n",
      "2 bad epochs dropped\n"
     ]
    }
   ],
   "source": [
    "from torch.nn.utils.rnn import pad_sequence\n",
    "\n",
    "# Initialize the custom dataset\n",
    "bids_root = 'data'\n",
    "patients_tsv = 'data/participants.tsv'\n",
    "dataset = BIDSEEGDataset(bids_root, patients_tsv)\n",
    "\n",
    "# dataset stats\n",
    "print(f'Total number of samples: {len(dataset)}')\n",
    "\n",
    "# print number of different pathology labels\n"
   ]
  },
  {
   "cell_type": "code",
   "execution_count": 27,
   "metadata": {},
   "outputs": [
    {
     "name": "stdout",
     "output_type": "stream",
     "text": [
      "Distribution of the samples: {torch.Size([8, 2051]): 3217}\n"
     ]
    }
   ],
   "source": [
    "# get the distribution of the shape of the samples\n",
    "shapes = {}\n",
    "for sample, _ in dataset:\n",
    "    shape = sample.shape\n",
    "    if shape in shapes:\n",
    "        shapes[shape] += 1\n",
    "    else:\n",
    "        shapes[shape] = 1\n",
    "\n",
    "print(f'Distribution of the samples: {shapes}')"
   ]
  },
  {
   "cell_type": "code",
   "execution_count": 28,
   "metadata": {},
   "outputs": [],
   "source": [
    "# Create test, validation and train splits\n",
    "from sklearn.model_selection import train_test_split\n",
    "from torch.utils.data import Subset\n",
    "\n",
    "# Split the dataset into training and a temporary set (70% train, 30% temp)\n",
    "# we need this to not loose the `all_labels` list\n",
    "train_indices, temp_indices = train_test_split(\n",
    "    list(range(len(dataset))),\n",
    "    test_size=0.3,\n",
    "    random_state=42,\n",
    "    stratify=dataset.all_labels,\n",
    "    shuffle=True\n",
    ")\n",
    "\n",
    "# Split the temporary set into validation and test sets (50% validation, 50% test of the temp set)\n",
    "val_indices, test_indices = train_test_split(\n",
    "    temp_indices,\n",
    "    test_size=0.5,\n",
    "    random_state=42,\n",
    "    stratify=[dataset.all_labels[i] for i in temp_indices],\n",
    "    shuffle=True\n",
    ")\n",
    "\n",
    "# Create Subset instances using the split indices\n",
    "train_dataset = Subset(dataset, train_indices)\n",
    "val_dataset = Subset(dataset, val_indices)\n",
    "test_dataset = Subset(dataset, test_indices)\n"
   ]
  },
  {
   "cell_type": "code",
   "execution_count": 29,
   "metadata": {},
   "outputs": [],
   "source": [
    "batch_size = 32\n",
    "\n",
    "# Create data loaders\n",
    "train_loader = DataLoader(train_dataset, batch_size=batch_size, shuffle=True)\n",
    "val_loader = DataLoader(val_dataset, batch_size=batch_size, shuffle=False)\n",
    "test_loader = DataLoader(test_dataset, batch_size=batch_size, shuffle=False)"
   ]
  },
  {
   "cell_type": "code",
   "execution_count": 36,
   "metadata": {},
   "outputs": [],
   "source": [
    "from torch import nn\n",
    "import torch.nn.functional as F\n",
    "\n",
    "class EEGNet(nn.Module):\n",
    "    def __init__(self, Chans=8, Samples=2051, dropoutRate=0.5, kernLength=64, F1=8, D=2, F2=16, norm_rate=0.25, dropoutType='Dropout'):\n",
    "        super(EEGNet, self).__init__()\n",
    "        \n",
    "        # First Convolutional Block\n",
    "        self.block1 = nn.Sequential(\n",
    "            nn.Conv2d(1, F1, (1, kernLength), padding=(0, kernLength // 2), bias=False),\n",
    "            nn.BatchNorm2d(F1),\n",
    "            nn.ELU(),\n",
    "            nn.AvgPool2d((1, 4)),\n",
    "            nn.Dropout(dropoutRate)\n",
    "        )\n",
    "        \n",
    "        # Depthwise Convolution\n",
    "        self.depthwise = nn.Conv2d(F1, F1*D, (Chans, 1), groups=F1, bias=False)\n",
    "        self.depthwise_bn = nn.BatchNorm2d(F1*D)\n",
    "        self.depthwise_activation = nn.ELU()\n",
    "        \n",
    "        # Separable Convolution\n",
    "        self.pointwise = nn.Conv2d(F1*D, F2, (1, 1), bias=False)\n",
    "        self.pointwise_bn = nn.BatchNorm2d(F2)\n",
    "        self.pointwise_activation = nn.ELU()\n",
    "        self.pointwise_pooling = nn.AvgPool2d((1, 8))\n",
    "        self.pointwise_dropout = nn.Dropout(dropoutRate)\n",
    "        \n",
    "        # Classification Layer\n",
    "        self.classify = nn.Linear(F2, 1)\n",
    "        \n",
    "    def forward(self, x):\n",
    "        x = self.block1(x)\n",
    "        \n",
    "        # Depthwise Convolution\n",
    "        x = self.depthwise(x)\n",
    "        x = self.depthwise_bn(x)\n",
    "        x = self.depthwise_activation(x)\n",
    "        \n",
    "        # Separable Convolution\n",
    "        x = self.pointwise(x)\n",
    "        x = self.pointwise_bn(x)\n",
    "        x = self.pointwise_activation(x)\n",
    "        x = self.pointwise_pooling(x)\n",
    "        x = self.pointwise_dropout(x)\n",
    "        \n",
    "        x = F.adaptive_avg_pool2d(x, (1, 1)).squeeze()\n",
    "        x = self.classify(x)\n",
    "        return x"
   ]
  },
  {
   "cell_type": "code",
   "execution_count": 37,
   "metadata": {},
   "outputs": [],
   "source": [
    "from torch import optim\n",
    "\n",
    "net = EEGNet()\n",
    "\n",
    "criterion = nn.CrossEntropyLoss()\n",
    "optimizer = optim.Adam(net.parameters())"
   ]
  },
  {
   "cell_type": "code",
   "execution_count": 38,
   "metadata": {},
   "outputs": [
    {
     "ename": "RuntimeError",
     "evalue": "Given groups=1, weight of size [8, 1, 1, 64], expected input[1, 32, 8, 2051] to have 1 channels, but got 32 channels instead",
     "output_type": "error",
     "traceback": [
      "\u001b[0;31m---------------------------------------------------------------------------\u001b[0m",
      "\u001b[0;31mRuntimeError\u001b[0m                              Traceback (most recent call last)",
      "\u001b[1;32m/Users/user/Desktop/Uni/Medical Image/Assignment1/EEGNet/DataSplit.ipynb Cella 9\u001b[0m line \u001b[0;36m2\n\u001b[1;32m     <a href='vscode-notebook-cell:/Users/user/Desktop/Uni/Medical%20Image/Assignment1/EEGNet/DataSplit.ipynb#X13sZmlsZQ%3D%3D?line=24'>25</a>\u001b[0m optimizer\u001b[39m.\u001b[39mzero_grad()\n\u001b[1;32m     <a href='vscode-notebook-cell:/Users/user/Desktop/Uni/Medical%20Image/Assignment1/EEGNet/DataSplit.ipynb#X13sZmlsZQ%3D%3D?line=26'>27</a>\u001b[0m \u001b[39m# Forward pass\u001b[39;00m\n\u001b[0;32m---> <a href='vscode-notebook-cell:/Users/user/Desktop/Uni/Medical%20Image/Assignment1/EEGNet/DataSplit.ipynb#X13sZmlsZQ%3D%3D?line=27'>28</a>\u001b[0m outputs \u001b[39m=\u001b[39m model(data)\n\u001b[1;32m     <a href='vscode-notebook-cell:/Users/user/Desktop/Uni/Medical%20Image/Assignment1/EEGNet/DataSplit.ipynb#X13sZmlsZQ%3D%3D?line=28'>29</a>\u001b[0m loss \u001b[39m=\u001b[39m criterion(outputs, labels)\n\u001b[1;32m     <a href='vscode-notebook-cell:/Users/user/Desktop/Uni/Medical%20Image/Assignment1/EEGNet/DataSplit.ipynb#X13sZmlsZQ%3D%3D?line=30'>31</a>\u001b[0m \u001b[39m# Backward pass and optimize\u001b[39;00m\n",
      "File \u001b[0;32m~/Library/Python/3.9/lib/python/site-packages/torch/nn/modules/module.py:1501\u001b[0m, in \u001b[0;36mModule._call_impl\u001b[0;34m(self, *args, **kwargs)\u001b[0m\n\u001b[1;32m   1496\u001b[0m \u001b[39m# If we don't have any hooks, we want to skip the rest of the logic in\u001b[39;00m\n\u001b[1;32m   1497\u001b[0m \u001b[39m# this function, and just call forward.\u001b[39;00m\n\u001b[1;32m   1498\u001b[0m \u001b[39mif\u001b[39;00m \u001b[39mnot\u001b[39;00m (\u001b[39mself\u001b[39m\u001b[39m.\u001b[39m_backward_hooks \u001b[39mor\u001b[39;00m \u001b[39mself\u001b[39m\u001b[39m.\u001b[39m_backward_pre_hooks \u001b[39mor\u001b[39;00m \u001b[39mself\u001b[39m\u001b[39m.\u001b[39m_forward_hooks \u001b[39mor\u001b[39;00m \u001b[39mself\u001b[39m\u001b[39m.\u001b[39m_forward_pre_hooks\n\u001b[1;32m   1499\u001b[0m         \u001b[39mor\u001b[39;00m _global_backward_pre_hooks \u001b[39mor\u001b[39;00m _global_backward_hooks\n\u001b[1;32m   1500\u001b[0m         \u001b[39mor\u001b[39;00m _global_forward_hooks \u001b[39mor\u001b[39;00m _global_forward_pre_hooks):\n\u001b[0;32m-> 1501\u001b[0m     \u001b[39mreturn\u001b[39;00m forward_call(\u001b[39m*\u001b[39;49margs, \u001b[39m*\u001b[39;49m\u001b[39m*\u001b[39;49mkwargs)\n\u001b[1;32m   1502\u001b[0m \u001b[39m# Do not call functions when jit is used\u001b[39;00m\n\u001b[1;32m   1503\u001b[0m full_backward_hooks, non_full_backward_hooks \u001b[39m=\u001b[39m [], []\n",
      "\u001b[1;32m/Users/user/Desktop/Uni/Medical Image/Assignment1/EEGNet/DataSplit.ipynb Cella 9\u001b[0m line \u001b[0;36m3\n\u001b[1;32m     <a href='vscode-notebook-cell:/Users/user/Desktop/Uni/Medical%20Image/Assignment1/EEGNet/DataSplit.ipynb#X13sZmlsZQ%3D%3D?line=31'>32</a>\u001b[0m \u001b[39mdef\u001b[39;00m \u001b[39mforward\u001b[39m(\u001b[39mself\u001b[39m, x):\n\u001b[0;32m---> <a href='vscode-notebook-cell:/Users/user/Desktop/Uni/Medical%20Image/Assignment1/EEGNet/DataSplit.ipynb#X13sZmlsZQ%3D%3D?line=32'>33</a>\u001b[0m     x \u001b[39m=\u001b[39m \u001b[39mself\u001b[39;49m\u001b[39m.\u001b[39;49mblock1(x)\n\u001b[1;32m     <a href='vscode-notebook-cell:/Users/user/Desktop/Uni/Medical%20Image/Assignment1/EEGNet/DataSplit.ipynb#X13sZmlsZQ%3D%3D?line=34'>35</a>\u001b[0m     \u001b[39m# Depthwise Convolution\u001b[39;00m\n\u001b[1;32m     <a href='vscode-notebook-cell:/Users/user/Desktop/Uni/Medical%20Image/Assignment1/EEGNet/DataSplit.ipynb#X13sZmlsZQ%3D%3D?line=35'>36</a>\u001b[0m     x \u001b[39m=\u001b[39m \u001b[39mself\u001b[39m\u001b[39m.\u001b[39mdepthwise(x)\n",
      "File \u001b[0;32m~/Library/Python/3.9/lib/python/site-packages/torch/nn/modules/module.py:1501\u001b[0m, in \u001b[0;36mModule._call_impl\u001b[0;34m(self, *args, **kwargs)\u001b[0m\n\u001b[1;32m   1496\u001b[0m \u001b[39m# If we don't have any hooks, we want to skip the rest of the logic in\u001b[39;00m\n\u001b[1;32m   1497\u001b[0m \u001b[39m# this function, and just call forward.\u001b[39;00m\n\u001b[1;32m   1498\u001b[0m \u001b[39mif\u001b[39;00m \u001b[39mnot\u001b[39;00m (\u001b[39mself\u001b[39m\u001b[39m.\u001b[39m_backward_hooks \u001b[39mor\u001b[39;00m \u001b[39mself\u001b[39m\u001b[39m.\u001b[39m_backward_pre_hooks \u001b[39mor\u001b[39;00m \u001b[39mself\u001b[39m\u001b[39m.\u001b[39m_forward_hooks \u001b[39mor\u001b[39;00m \u001b[39mself\u001b[39m\u001b[39m.\u001b[39m_forward_pre_hooks\n\u001b[1;32m   1499\u001b[0m         \u001b[39mor\u001b[39;00m _global_backward_pre_hooks \u001b[39mor\u001b[39;00m _global_backward_hooks\n\u001b[1;32m   1500\u001b[0m         \u001b[39mor\u001b[39;00m _global_forward_hooks \u001b[39mor\u001b[39;00m _global_forward_pre_hooks):\n\u001b[0;32m-> 1501\u001b[0m     \u001b[39mreturn\u001b[39;00m forward_call(\u001b[39m*\u001b[39;49margs, \u001b[39m*\u001b[39;49m\u001b[39m*\u001b[39;49mkwargs)\n\u001b[1;32m   1502\u001b[0m \u001b[39m# Do not call functions when jit is used\u001b[39;00m\n\u001b[1;32m   1503\u001b[0m full_backward_hooks, non_full_backward_hooks \u001b[39m=\u001b[39m [], []\n",
      "File \u001b[0;32m~/Library/Python/3.9/lib/python/site-packages/torch/nn/modules/container.py:217\u001b[0m, in \u001b[0;36mSequential.forward\u001b[0;34m(self, input)\u001b[0m\n\u001b[1;32m    215\u001b[0m \u001b[39mdef\u001b[39;00m \u001b[39mforward\u001b[39m(\u001b[39mself\u001b[39m, \u001b[39minput\u001b[39m):\n\u001b[1;32m    216\u001b[0m     \u001b[39mfor\u001b[39;00m module \u001b[39min\u001b[39;00m \u001b[39mself\u001b[39m:\n\u001b[0;32m--> 217\u001b[0m         \u001b[39minput\u001b[39m \u001b[39m=\u001b[39m module(\u001b[39minput\u001b[39;49m)\n\u001b[1;32m    218\u001b[0m     \u001b[39mreturn\u001b[39;00m \u001b[39minput\u001b[39m\n",
      "File \u001b[0;32m~/Library/Python/3.9/lib/python/site-packages/torch/nn/modules/module.py:1501\u001b[0m, in \u001b[0;36mModule._call_impl\u001b[0;34m(self, *args, **kwargs)\u001b[0m\n\u001b[1;32m   1496\u001b[0m \u001b[39m# If we don't have any hooks, we want to skip the rest of the logic in\u001b[39;00m\n\u001b[1;32m   1497\u001b[0m \u001b[39m# this function, and just call forward.\u001b[39;00m\n\u001b[1;32m   1498\u001b[0m \u001b[39mif\u001b[39;00m \u001b[39mnot\u001b[39;00m (\u001b[39mself\u001b[39m\u001b[39m.\u001b[39m_backward_hooks \u001b[39mor\u001b[39;00m \u001b[39mself\u001b[39m\u001b[39m.\u001b[39m_backward_pre_hooks \u001b[39mor\u001b[39;00m \u001b[39mself\u001b[39m\u001b[39m.\u001b[39m_forward_hooks \u001b[39mor\u001b[39;00m \u001b[39mself\u001b[39m\u001b[39m.\u001b[39m_forward_pre_hooks\n\u001b[1;32m   1499\u001b[0m         \u001b[39mor\u001b[39;00m _global_backward_pre_hooks \u001b[39mor\u001b[39;00m _global_backward_hooks\n\u001b[1;32m   1500\u001b[0m         \u001b[39mor\u001b[39;00m _global_forward_hooks \u001b[39mor\u001b[39;00m _global_forward_pre_hooks):\n\u001b[0;32m-> 1501\u001b[0m     \u001b[39mreturn\u001b[39;00m forward_call(\u001b[39m*\u001b[39;49margs, \u001b[39m*\u001b[39;49m\u001b[39m*\u001b[39;49mkwargs)\n\u001b[1;32m   1502\u001b[0m \u001b[39m# Do not call functions when jit is used\u001b[39;00m\n\u001b[1;32m   1503\u001b[0m full_backward_hooks, non_full_backward_hooks \u001b[39m=\u001b[39m [], []\n",
      "File \u001b[0;32m~/Library/Python/3.9/lib/python/site-packages/torch/nn/modules/conv.py:463\u001b[0m, in \u001b[0;36mConv2d.forward\u001b[0;34m(self, input)\u001b[0m\n\u001b[1;32m    462\u001b[0m \u001b[39mdef\u001b[39;00m \u001b[39mforward\u001b[39m(\u001b[39mself\u001b[39m, \u001b[39minput\u001b[39m: Tensor) \u001b[39m-\u001b[39m\u001b[39m>\u001b[39m Tensor:\n\u001b[0;32m--> 463\u001b[0m     \u001b[39mreturn\u001b[39;00m \u001b[39mself\u001b[39;49m\u001b[39m.\u001b[39;49m_conv_forward(\u001b[39minput\u001b[39;49m, \u001b[39mself\u001b[39;49m\u001b[39m.\u001b[39;49mweight, \u001b[39mself\u001b[39;49m\u001b[39m.\u001b[39;49mbias)\n",
      "File \u001b[0;32m~/Library/Python/3.9/lib/python/site-packages/torch/nn/modules/conv.py:459\u001b[0m, in \u001b[0;36mConv2d._conv_forward\u001b[0;34m(self, input, weight, bias)\u001b[0m\n\u001b[1;32m    455\u001b[0m \u001b[39mif\u001b[39;00m \u001b[39mself\u001b[39m\u001b[39m.\u001b[39mpadding_mode \u001b[39m!=\u001b[39m \u001b[39m'\u001b[39m\u001b[39mzeros\u001b[39m\u001b[39m'\u001b[39m:\n\u001b[1;32m    456\u001b[0m     \u001b[39mreturn\u001b[39;00m F\u001b[39m.\u001b[39mconv2d(F\u001b[39m.\u001b[39mpad(\u001b[39minput\u001b[39m, \u001b[39mself\u001b[39m\u001b[39m.\u001b[39m_reversed_padding_repeated_twice, mode\u001b[39m=\u001b[39m\u001b[39mself\u001b[39m\u001b[39m.\u001b[39mpadding_mode),\n\u001b[1;32m    457\u001b[0m                     weight, bias, \u001b[39mself\u001b[39m\u001b[39m.\u001b[39mstride,\n\u001b[1;32m    458\u001b[0m                     _pair(\u001b[39m0\u001b[39m), \u001b[39mself\u001b[39m\u001b[39m.\u001b[39mdilation, \u001b[39mself\u001b[39m\u001b[39m.\u001b[39mgroups)\n\u001b[0;32m--> 459\u001b[0m \u001b[39mreturn\u001b[39;00m F\u001b[39m.\u001b[39;49mconv2d(\u001b[39minput\u001b[39;49m, weight, bias, \u001b[39mself\u001b[39;49m\u001b[39m.\u001b[39;49mstride,\n\u001b[1;32m    460\u001b[0m                 \u001b[39mself\u001b[39;49m\u001b[39m.\u001b[39;49mpadding, \u001b[39mself\u001b[39;49m\u001b[39m.\u001b[39;49mdilation, \u001b[39mself\u001b[39;49m\u001b[39m.\u001b[39;49mgroups)\n",
      "\u001b[0;31mRuntimeError\u001b[0m: Given groups=1, weight of size [8, 1, 1, 64], expected input[1, 32, 8, 2051] to have 1 channels, but got 32 channels instead"
     ]
    }
   ],
   "source": [
    "import torch\n",
    "import torch.optim as optim\n",
    "\n",
    "# Hyperparameters\n",
    "learning_rate = 0.001\n",
    "num_epochs = 50\n",
    "device = torch.device('mps') #\"cuda\" if torch.cuda.is_available() else \"cpu\")\n",
    "\n",
    "# Initialize the model, criterion, and optimizer\n",
    "model = EEGNet().to(device)\n",
    "criterion = nn.CrossEntropyLoss()\n",
    "optimizer = optim.Adam(model.parameters(), lr=learning_rate)\n",
    "\n",
    "# Training loop\n",
    "for epoch in range(num_epochs):\n",
    "    model.train()  # Set the model to training mode\n",
    "    total_loss = 0.0\n",
    "    correct = 0\n",
    "    total = 0\n",
    "    \n",
    "    for batch_idx, (data, labels) in enumerate(train_loader):\n",
    "        data, labels = data.to(device), labels.to(device)\n",
    "        \n",
    "        # Zero the parameter gradients\n",
    "        optimizer.zero_grad()\n",
    "        \n",
    "        # Forward pass\n",
    "        outputs = model(data)\n",
    "        loss = criterion(outputs, labels)\n",
    "        \n",
    "        # Backward pass and optimize\n",
    "        loss.backward()\n",
    "        optimizer.step()\n",
    "        \n",
    "        total_loss += loss.item()\n",
    "        _, predicted = outputs.max(1)\n",
    "        total += labels.size(0)\n",
    "        correct += predicted.eq(labels).sum().item()\n",
    "        \n",
    "    print(f\"Epoch [{epoch+1}/{num_epochs}], Loss: {total_loss/len(train_loader):.4f}, Accuracy: {100.*correct/total:.2f}%\")\n",
    "\n",
    "# Testing loop\n",
    "model.eval()  # Set the model to evaluation mode\n",
    "correct = 0\n",
    "total = 0\n",
    "with torch.no_grad():\n",
    "    for data, labels in test_loader:\n",
    "        data, labels = data.to(device), labels.to(device)\n",
    "        outputs = model(data)\n",
    "        _, predicted = outputs.max(1)\n",
    "        total += labels.size(0)\n",
    "        correct += predicted.eq(labels).sum().item()\n",
    "\n",
    "print(f\"Test Accuracy: {100.*correct/total:.2f}%\")"
   ]
  }
 ],
 "metadata": {
  "kernelspec": {
   "display_name": "Python 3",
   "language": "python",
   "name": "python3"
  },
  "language_info": {
   "codemirror_mode": {
    "name": "ipython",
    "version": 3
   },
   "file_extension": ".py",
   "mimetype": "text/x-python",
   "name": "python",
   "nbconvert_exporter": "python",
   "pygments_lexer": "ipython3",
   "version": "3.9.6"
  }
 },
 "nbformat": 4,
 "nbformat_minor": 2
}
